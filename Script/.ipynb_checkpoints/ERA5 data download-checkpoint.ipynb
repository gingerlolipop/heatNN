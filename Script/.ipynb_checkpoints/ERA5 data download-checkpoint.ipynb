{
 "cells": [
  {
   "cell_type": "code",
   "execution_count": null,
   "id": "b5703fd4",
   "metadata": {},
   "outputs": [],
   "source": [
    "pwd()"
   ]
  },
  {
   "cell_type": "code",
   "execution_count": null,
   "id": "20580089",
   "metadata": {},
   "outputs": [],
   "source": [
    "start_year = 2020\n",
    "end_year = 2023\n",
    "years = [str(year) for year in range(start_year, end_year + 1)]\n",
    "print(years)\n",
    "months = [str(i).zfill(2) for i in range(1, 13)]\n",
    "print(months)"
   ]
  },
  {
   "cell_type": "code",
   "execution_count": null,
   "id": "cf16d946",
   "metadata": {},
   "outputs": [],
   "source": [
    "months = [str(i).zfill(2) for i in range(1, 13)]"
   ]
  },
  {
   "cell_type": "code",
   "execution_count": null,
   "id": "fbe07190",
   "metadata": {
    "scrolled": true
   },
   "outputs": [],
   "source": [
    "months"
   ]
  },
  {
   "cell_type": "code",
   "execution_count": 1,
   "id": "a8246328",
   "metadata": {},
   "outputs": [
    {
     "name": "stdout",
     "output_type": "stream",
     "text": [
      "Requirement already satisfied: cdsapi>=0.7.4 in c:\\users\\jillb\\anaconda3\\lib\\site-packages (0.7.5)\n",
      "Requirement already satisfied: datapi in c:\\users\\jillb\\anaconda3\\lib\\site-packages (from cdsapi>=0.7.4) (0.2.0)\n",
      "Requirement already satisfied: requests>=2.5.0 in c:\\users\\jillb\\anaconda3\\lib\\site-packages (from cdsapi>=0.7.4) (2.29.0)\n",
      "Requirement already satisfied: tqdm in c:\\users\\jillb\\anaconda3\\lib\\site-packages (from cdsapi>=0.7.4) (4.65.0)\n",
      "Requirement already satisfied: charset-normalizer<4,>=2 in c:\\users\\jillb\\anaconda3\\lib\\site-packages (from requests>=2.5.0->cdsapi>=0.7.4) (2.0.4)\n",
      "Requirement already satisfied: idna<4,>=2.5 in c:\\users\\jillb\\anaconda3\\lib\\site-packages (from requests>=2.5.0->cdsapi>=0.7.4) (3.4)\n",
      "Requirement already satisfied: urllib3<1.27,>=1.21.1 in c:\\users\\jillb\\anaconda3\\lib\\site-packages (from requests>=2.5.0->cdsapi>=0.7.4) (1.26.16)\n",
      "Requirement already satisfied: certifi>=2017.4.17 in c:\\users\\jillb\\anaconda3\\lib\\site-packages (from requests>=2.5.0->cdsapi>=0.7.4) (2023.5.7)\n",
      "Requirement already satisfied: attrs in c:\\users\\jillb\\anaconda3\\lib\\site-packages (from datapi->cdsapi>=0.7.4) (22.1.0)\n",
      "Requirement already satisfied: multiurl>=0.3.2 in c:\\users\\jillb\\anaconda3\\lib\\site-packages (from datapi->cdsapi>=0.7.4) (0.3.3)\n",
      "Requirement already satisfied: typing-extensions in c:\\users\\jillb\\anaconda3\\lib\\site-packages (from datapi->cdsapi>=0.7.4) (4.12.2)\n",
      "Requirement already satisfied: colorama in c:\\users\\jillb\\anaconda3\\lib\\site-packages (from tqdm->cdsapi>=0.7.4) (0.4.6)\n",
      "Requirement already satisfied: pytz in c:\\users\\jillb\\anaconda3\\lib\\site-packages (from multiurl>=0.3.2->datapi->cdsapi>=0.7.4) (2022.7)\n",
      "Requirement already satisfied: python-dateutil in c:\\users\\jillb\\anaconda3\\lib\\site-packages (from multiurl>=0.3.2->datapi->cdsapi>=0.7.4) (2.8.2)\n",
      "Requirement already satisfied: six>=1.5 in c:\\users\\jillb\\anaconda3\\lib\\site-packages (from python-dateutil->multiurl>=0.3.2->datapi->cdsapi>=0.7.4) (1.16.0)\n"
     ]
    }
   ],
   "source": [
    "!pip install \"cdsapi>=0.7.4\""
   ]
  },
  {
   "cell_type": "code",
   "execution_count": 2,
   "id": "f331d833",
   "metadata": {},
   "outputs": [],
   "source": [
    "import cdsapi\n",
    "import calendar"
   ]
  },
  {
   "cell_type": "markdown",
   "id": "99aed1dc",
   "metadata": {},
   "source": [
    "## Year 2020-2023"
   ]
  },
  {
   "cell_type": "code",
   "execution_count": 3,
   "id": "727a9d12",
   "metadata": {},
   "outputs": [
    {
     "name": "stdout",
     "output_type": "stream",
     "text": [
      "['2020', '2021', '2022', '2023', '2024', '2025']\n",
      "['01', '02', '03', '04', '05', '06', '07', '08', '09', '10', '11', '12']\n"
     ]
    }
   ],
   "source": [
    "# Define the range of years\n",
    "start_year = 2020\n",
    "end_year = 2025\n",
    "years = [str(year) for year in range(start_year, end_year + 1)]\n",
    "print(years)\n",
    "\n",
    "# Define months\n",
    "months = [str(i).zfill(2) for i in range(1, 13)]\n",
    "print(months)"
   ]
  },
  {
   "cell_type": "code",
   "execution_count": 4,
   "id": "bbed529d",
   "metadata": {},
   "outputs": [],
   "source": [
    "dataset = \"reanalysis-era5-land\""
   ]
  },
  {
   "cell_type": "markdown",
   "id": "13636eb1",
   "metadata": {},
   "source": [
    "### 模板\n",
    "client = cdsapi.Client()\n",
    "\n",
    "dataset = dataset\n",
    "request = {\n",
    "    <SELECTION-REQUEST>\n",
    "}\n",
    "target = \"download.zip\"\n",
    "\n",
    "client.retrieve(dataset, request, target)\n"
   ]
  },
  {
   "cell_type": "code",
   "execution_count": null,
   "id": "3413c717",
   "metadata": {},
   "outputs": [
    {
     "name": "stderr",
     "output_type": "stream",
     "text": [
      "2025-02-10 14:41:27,411 INFO [2024-09-26T00:00:00] Watch our [Forum](https://forum.ecmwf.int/) for Announcements, news and other discussed topics.\n",
      "2025-02-10 14:41:27,412 WARNING [2024-06-16T00:00:00] CDS API syntax is changed and some keys or parameter names may have also changed. To avoid requests failing, please use the \"Show API request code\" tool on the dataset Download Form to check you are using the correct syntax for your API request.\n",
      "2025-02-10 14:41:28,128 INFO Request ID is dba69056-bb50-44c3-a51d-adbae7429a80\n",
      "2025-02-10 14:41:28,325 INFO status has been updated to accepted\n",
      "2025-02-10 14:41:37,337 INFO status has been updated to successful\n"
     ]
    },
    {
     "data": {
      "application/vnd.jupyter.widget-view+json": {
       "model_id": "",
       "version_major": 2,
       "version_minor": 0
      },
      "text/plain": [
       "c8f8e03a88f3161d2caa6e36a1a9b5e5.zip:   0%|          | 0.00/41.2M [00:00<?, ?B/s]"
      ]
     },
     "metadata": {},
     "output_type": "display_data"
    },
    {
     "name": "stdout",
     "output_type": "stream",
     "text": [
      "成功下载: ERA5_2020_01.nc\n"
     ]
    },
    {
     "name": "stderr",
     "output_type": "stream",
     "text": [
      "2025-02-10 14:41:59,411 INFO Request ID is 53cd4fb4-61a3-45cd-bcc7-47259b7e13a8\n",
      "2025-02-10 14:41:59,628 INFO status has been updated to accepted\n",
      "2025-02-10 14:42:08,574 INFO status has been updated to running\n",
      "2025-02-10 14:42:13,826 INFO status has been updated to successful\n"
     ]
    },
    {
     "data": {
      "application/vnd.jupyter.widget-view+json": {
       "model_id": "",
       "version_major": 2,
       "version_minor": 0
      },
      "text/plain": [
       "e0b0cfe236987651ab4b64bf48dd8d26.zip:   0%|          | 0.00/38.4M [00:00<?, ?B/s]"
      ]
     },
     "metadata": {},
     "output_type": "display_data"
    },
    {
     "name": "stdout",
     "output_type": "stream",
     "text": [
      "成功下载: ERA5_2020_02.nc\n"
     ]
    },
    {
     "name": "stderr",
     "output_type": "stream",
     "text": [
      "2025-02-10 14:42:23,764 INFO Request ID is 882d47e0-0653-4d67-a194-e010e05a5510\n",
      "2025-02-10 14:42:23,958 INFO status has been updated to accepted\n",
      "2025-02-10 14:42:32,889 INFO status has been updated to running\n"
     ]
    }
   ],
   "source": [
    "import cdsapi\n",
    "import calendar\n",
    "\n",
    "# 初始化客户端\n",
    "client = cdsapi.Client()\n",
    "\n",
    "# 定义数据集名称（根据实际数据集调整）\n",
    "dataset = \"reanalysis-era5-single-levels\"  # 示例为 ERA5 单层数据\n",
    "\n",
    "# 定义时间范围\n",
    "start_year = 2020\n",
    "end_year = 2023\n",
    "years = [str(year) for year in range(start_year, end_year + 1)]\n",
    "months = [str(i).zfill(2) for i in range(1, 13)]\n",
    "\n",
    "# 循环下载数据\n",
    "for year in years:\n",
    "    for month in months:\n",
    "        # 计算当月天数\n",
    "        num_days = calendar.monthrange(int(year), int(month))[1]\n",
    "        days = [str(day).zfill(2) for day in range(1, num_days + 1)]\n",
    "\n",
    "        # 构建请求参数（按新 API 格式）\n",
    "        request = {\n",
    "            \"product_type\": \"reanalysis\",  # 必需参数\n",
    "            \"variable\": [\n",
    "                \"2m_dewpoint_temperature\",\n",
    "                \"2m_temperature\",\n",
    "                \"surface_solar_radiation_downwards\",\n",
    "                \"10m_u_component_of_wind\",\n",
    "                \"10m_v_component_of_wind\",\n",
    "                \"surface_pressure\",\n",
    "                \"total_precipitation\"\n",
    "            ],\n",
    "            \"year\": year,\n",
    "            \"month\": month,\n",
    "            \"day\": days,\n",
    "            \"time\": [f\"{hour:02d}:00\" for hour in range(24)],  # 生成 24 小时\n",
    "            \"area\": [60, -139, 48, -113],  # 北, 西, 南, 东\n",
    "            \"format\": \"netcdf\",  # 合并 data_format 和 download_format\n",
    "        }\n",
    "\n",
    "        # 定义目标文件名\n",
    "        target = f\"ERA5_{year}_{month}.nc\"\n",
    "\n",
    "        # 调用新 API 下载（直接传递 target）\n",
    "        try:\n",
    "            client.retrieve(dataset, request, target)\n",
    "            print(f\"成功下载: {target}\")\n",
    "        except Exception as e:\n",
    "            print(f\"下载失败 {year}-{month}: {e}\")"
   ]
  },
  {
   "cell_type": "markdown",
   "id": "3101b260",
   "metadata": {},
   "source": [
    "Year 1962-1965"
   ]
  },
  {
   "cell_type": "code",
   "execution_count": null,
   "id": "94f91c67",
   "metadata": {},
   "outputs": [],
   "source": []
  },
  {
   "cell_type": "code",
   "execution_count": null,
   "id": "f0d9f52d",
   "metadata": {},
   "outputs": [],
   "source": []
  }
 ],
 "metadata": {
  "kernelspec": {
   "display_name": "Python 3 (ipykernel)",
   "language": "python",
   "name": "python3"
  },
  "language_info": {
   "codemirror_mode": {
    "name": "ipython",
    "version": 3
   },
   "file_extension": ".py",
   "mimetype": "text/x-python",
   "name": "python",
   "nbconvert_exporter": "python",
   "pygments_lexer": "ipython3",
   "version": "3.11.3"
  }
 },
 "nbformat": 4,
 "nbformat_minor": 5
}
