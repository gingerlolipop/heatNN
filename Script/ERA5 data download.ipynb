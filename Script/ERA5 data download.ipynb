{
 "cells": [
  {
   "cell_type": "code",
   "execution_count": null,
   "id": "b5703fd4",
   "metadata": {},
   "outputs": [],
   "source": [
    "pwd()"
   ]
  },
  {
   "cell_type": "code",
   "execution_count": null,
   "id": "20580089",
   "metadata": {},
   "outputs": [],
   "source": [
    "start_year = 2020\n",
    "end_year = 2023\n",
    "years = [str(year) for year in range(start_year, end_year + 1)]\n",
    "print(years)\n",
    "months = [str(i).zfill(2) for i in range(1, 13)]\n",
    "print(months)"
   ]
  },
  {
   "cell_type": "code",
   "execution_count": null,
   "id": "cf16d946",
   "metadata": {},
   "outputs": [],
   "source": [
    "months = [str(i).zfill(2) for i in range(1, 13)]"
   ]
  },
  {
   "cell_type": "code",
   "execution_count": null,
   "id": "fbe07190",
   "metadata": {
    "scrolled": true
   },
   "outputs": [],
   "source": [
    "months"
   ]
  },
  {
   "cell_type": "code",
   "execution_count": 1,
   "id": "a8246328",
   "metadata": {},
   "outputs": [
    {
     "name": "stdout",
     "output_type": "stream",
     "text": [
      "Requirement already satisfied: cdsapi>=0.7.4 in c:\\users\\jillb\\anaconda3\\lib\\site-packages (0.7.5)\n",
      "Requirement already satisfied: datapi in c:\\users\\jillb\\anaconda3\\lib\\site-packages (from cdsapi>=0.7.4) (0.2.0)\n",
      "Requirement already satisfied: requests>=2.5.0 in c:\\users\\jillb\\anaconda3\\lib\\site-packages (from cdsapi>=0.7.4) (2.29.0)\n",
      "Requirement already satisfied: tqdm in c:\\users\\jillb\\anaconda3\\lib\\site-packages (from cdsapi>=0.7.4) (4.65.0)\n",
      "Requirement already satisfied: charset-normalizer<4,>=2 in c:\\users\\jillb\\anaconda3\\lib\\site-packages (from requests>=2.5.0->cdsapi>=0.7.4) (2.0.4)\n",
      "Requirement already satisfied: idna<4,>=2.5 in c:\\users\\jillb\\anaconda3\\lib\\site-packages (from requests>=2.5.0->cdsapi>=0.7.4) (3.4)\n",
      "Requirement already satisfied: urllib3<1.27,>=1.21.1 in c:\\users\\jillb\\anaconda3\\lib\\site-packages (from requests>=2.5.0->cdsapi>=0.7.4) (1.26.16)\n",
      "Requirement already satisfied: certifi>=2017.4.17 in c:\\users\\jillb\\anaconda3\\lib\\site-packages (from requests>=2.5.0->cdsapi>=0.7.4) (2023.5.7)\n",
      "Requirement already satisfied: attrs in c:\\users\\jillb\\anaconda3\\lib\\site-packages (from datapi->cdsapi>=0.7.4) (22.1.0)\n",
      "Requirement already satisfied: multiurl>=0.3.2 in c:\\users\\jillb\\anaconda3\\lib\\site-packages (from datapi->cdsapi>=0.7.4) (0.3.3)\n",
      "Requirement already satisfied: typing-extensions in c:\\users\\jillb\\anaconda3\\lib\\site-packages (from datapi->cdsapi>=0.7.4) (4.12.2)\n",
      "Requirement already satisfied: colorama in c:\\users\\jillb\\anaconda3\\lib\\site-packages (from tqdm->cdsapi>=0.7.4) (0.4.6)\n",
      "Requirement already satisfied: pytz in c:\\users\\jillb\\anaconda3\\lib\\site-packages (from multiurl>=0.3.2->datapi->cdsapi>=0.7.4) (2022.7)\n",
      "Requirement already satisfied: python-dateutil in c:\\users\\jillb\\anaconda3\\lib\\site-packages (from multiurl>=0.3.2->datapi->cdsapi>=0.7.4) (2.8.2)\n",
      "Requirement already satisfied: six>=1.5 in c:\\users\\jillb\\anaconda3\\lib\\site-packages (from python-dateutil->multiurl>=0.3.2->datapi->cdsapi>=0.7.4) (1.16.0)\n"
     ]
    }
   ],
   "source": [
    "!pip install \"cdsapi>=0.7.4\""
   ]
  },
  {
   "cell_type": "code",
   "execution_count": 2,
   "id": "f331d833",
   "metadata": {},
   "outputs": [],
   "source": [
    "import cdsapi\n",
    "import calendar"
   ]
  },
  {
   "cell_type": "markdown",
   "id": "99aed1dc",
   "metadata": {},
   "source": [
    "## Year 2020-2023"
   ]
  },
  {
   "cell_type": "code",
   "execution_count": 3,
   "id": "727a9d12",
   "metadata": {},
   "outputs": [
    {
     "name": "stdout",
     "output_type": "stream",
     "text": [
      "['2020', '2021', '2022', '2023', '2024', '2025']\n",
      "['01', '02', '03', '04', '05', '06', '07', '08', '09', '10', '11', '12']\n"
     ]
    }
   ],
   "source": [
    "# Define the range of years\n",
    "start_year = 2020\n",
    "end_year = 2025\n",
    "years = [str(year) for year in range(start_year, end_year + 1)]\n",
    "print(years)\n",
    "\n",
    "# Define months\n",
    "months = [str(i).zfill(2) for i in range(1, 13)]\n",
    "print(months)"
   ]
  },
  {
   "cell_type": "code",
   "execution_count": 4,
   "id": "bbed529d",
   "metadata": {},
   "outputs": [],
   "source": [
    "dataset = \"reanalysis-era5-land\""
   ]
  },
  {
   "cell_type": "markdown",
   "id": "c4a482ea",
   "metadata": {},
   "source": [
    "### 模板\n",
    "client = cdsapi.Client()\n",
    "\n",
    "dataset = dataset\n",
    "request = {\n",
    "    <SELECTION-REQUEST>\n",
    "}\n",
    "target = \"download.zip\"\n",
    "\n",
    "client.retrieve(dataset, request, target)\n"
   ]
  },
  {
   "cell_type": "code",
   "execution_count": 5,
   "id": "3413c717",
   "metadata": {
    "scrolled": true
   },
   "outputs": [
    {
     "name": "stderr",
     "output_type": "stream",
     "text": [
      "2025-02-10 14:41:27,411 INFO [2024-09-26T00:00:00] Watch our [Forum](https://forum.ecmwf.int/) for Announcements, news and other discussed topics.\n",
      "2025-02-10 14:41:27,412 WARNING [2024-06-16T00:00:00] CDS API syntax is changed and some keys or parameter names may have also changed. To avoid requests failing, please use the \"Show API request code\" tool on the dataset Download Form to check you are using the correct syntax for your API request.\n",
      "2025-02-10 14:41:28,128 INFO Request ID is dba69056-bb50-44c3-a51d-adbae7429a80\n",
      "2025-02-10 14:41:28,325 INFO status has been updated to accepted\n",
      "2025-02-10 14:41:37,337 INFO status has been updated to successful\n"
     ]
    },
    {
     "data": {
      "application/vnd.jupyter.widget-view+json": {
       "model_id": "",
       "version_major": 2,
       "version_minor": 0
      },
      "text/plain": [
       "c8f8e03a88f3161d2caa6e36a1a9b5e5.zip:   0%|          | 0.00/41.2M [00:00<?, ?B/s]"
      ]
     },
     "metadata": {},
     "output_type": "display_data"
    },
    {
     "name": "stdout",
     "output_type": "stream",
     "text": [
      "成功下载: ERA5_2020_01.nc\n"
     ]
    },
    {
     "name": "stderr",
     "output_type": "stream",
     "text": [
      "2025-02-10 14:41:59,411 INFO Request ID is 53cd4fb4-61a3-45cd-bcc7-47259b7e13a8\n",
      "2025-02-10 14:41:59,628 INFO status has been updated to accepted\n",
      "2025-02-10 14:42:08,574 INFO status has been updated to running\n",
      "2025-02-10 14:42:13,826 INFO status has been updated to successful\n"
     ]
    },
    {
     "data": {
      "application/vnd.jupyter.widget-view+json": {
       "model_id": "",
       "version_major": 2,
       "version_minor": 0
      },
      "text/plain": [
       "e0b0cfe236987651ab4b64bf48dd8d26.zip:   0%|          | 0.00/38.4M [00:00<?, ?B/s]"
      ]
     },
     "metadata": {},
     "output_type": "display_data"
    },
    {
     "name": "stdout",
     "output_type": "stream",
     "text": [
      "成功下载: ERA5_2020_02.nc\n"
     ]
    },
    {
     "name": "stderr",
     "output_type": "stream",
     "text": [
      "2025-02-10 14:42:23,764 INFO Request ID is 882d47e0-0653-4d67-a194-e010e05a5510\n",
      "2025-02-10 14:42:23,958 INFO status has been updated to accepted\n",
      "2025-02-10 14:42:32,889 INFO status has been updated to running\n",
      "2025-02-10 14:46:44,569 INFO status has been updated to successful\n"
     ]
    },
    {
     "data": {
      "application/vnd.jupyter.widget-view+json": {
       "model_id": "",
       "version_major": 2,
       "version_minor": 0
      },
      "text/plain": [
       "c8ad97f19ceb66728e7dce262311a9cf.zip:   0%|          | 0.00/40.8M [00:00<?, ?B/s]"
      ]
     },
     "metadata": {},
     "output_type": "display_data"
    },
    {
     "name": "stdout",
     "output_type": "stream",
     "text": [
      "成功下载: ERA5_2020_03.nc\n"
     ]
    },
    {
     "name": "stderr",
     "output_type": "stream",
     "text": [
      "2025-02-10 14:46:58,500 INFO Request ID is 523d390c-293b-4058-8375-7d24173b1370\n",
      "2025-02-10 14:46:58,731 INFO status has been updated to accepted\n",
      "2025-02-10 14:47:07,632 INFO status has been updated to running\n",
      "2025-02-10 14:51:24,312 INFO status has been updated to successful\n"
     ]
    },
    {
     "data": {
      "application/vnd.jupyter.widget-view+json": {
       "model_id": "",
       "version_major": 2,
       "version_minor": 0
      },
      "text/plain": [
       "e0feaaa6f386f94522bdf30d8aa15701.zip:   0%|          | 0.00/39.5M [00:00<?, ?B/s]"
      ]
     },
     "metadata": {},
     "output_type": "display_data"
    },
    {
     "name": "stdout",
     "output_type": "stream",
     "text": [
      "成功下载: ERA5_2020_04.nc\n"
     ]
    },
    {
     "name": "stderr",
     "output_type": "stream",
     "text": [
      "2025-02-10 14:51:31,796 INFO Request ID is 5f1f2b83-7b54-41e3-8004-b391ba27a9cb\n",
      "2025-02-10 14:51:32,038 INFO status has been updated to accepted\n",
      "2025-02-10 14:51:40,921 INFO status has been updated to running\n",
      "Recovering from connection error [HTTPSConnectionPool(host='cds.climate.copernicus.eu', port=443): Max retries exceeded with url: /api/retrieve/v1/jobs/5f1f2b83-7b54-41e3-8004-b391ba27a9cb?log=True&request=True (Caused by NewConnectionError('<urllib3.connection.HTTPSConnection object at 0x000001FAD2D4B890>: Failed to establish a new connection: [Errno 11001] getaddrinfo failed'))], attemps 1 of 500\n",
      "Retrying in 120 seconds\n"
     ]
    },
    {
     "ename": "KeyboardInterrupt",
     "evalue": "",
     "output_type": "error",
     "traceback": [
      "\u001b[1;31m---------------------------------------------------------------------------\u001b[0m",
      "\u001b[1;31mKeyboardInterrupt\u001b[0m                         Traceback (most recent call last)",
      "Cell \u001b[1;32mIn[5], line 48\u001b[0m\n\u001b[0;32m     46\u001b[0m \u001b[38;5;66;03m# 调用新 API 下载（直接传递 target）\u001b[39;00m\n\u001b[0;32m     47\u001b[0m \u001b[38;5;28;01mtry\u001b[39;00m:\n\u001b[1;32m---> 48\u001b[0m     client\u001b[38;5;241m.\u001b[39mretrieve(dataset, request, target)\n\u001b[0;32m     49\u001b[0m     \u001b[38;5;28mprint\u001b[39m(\u001b[38;5;124mf\u001b[39m\u001b[38;5;124m\"\u001b[39m\u001b[38;5;124m成功下载: \u001b[39m\u001b[38;5;132;01m{\u001b[39;00mtarget\u001b[38;5;132;01m}\u001b[39;00m\u001b[38;5;124m\"\u001b[39m)\n\u001b[0;32m     50\u001b[0m \u001b[38;5;28;01mexcept\u001b[39;00m \u001b[38;5;167;01mException\u001b[39;00m \u001b[38;5;28;01mas\u001b[39;00m e:\n",
      "File \u001b[1;32m~\\anaconda3\\Lib\\site-packages\\datapi\\legacy_api_client.py:169\u001b[0m, in \u001b[0;36mLegacyApiClient.retrieve\u001b[1;34m(self, name, request, target)\u001b[0m\n\u001b[0;32m    167\u001b[0m submitted: Remote \u001b[38;5;241m|\u001b[39m Results\n\u001b[0;32m    168\u001b[0m \u001b[38;5;28;01mif\u001b[39;00m \u001b[38;5;28mself\u001b[39m\u001b[38;5;241m.\u001b[39mwait_until_complete:\n\u001b[1;32m--> 169\u001b[0m     submitted \u001b[38;5;241m=\u001b[39m \u001b[38;5;28mself\u001b[39m\u001b[38;5;241m.\u001b[39mclient\u001b[38;5;241m.\u001b[39msubmit_and_wait_on_results(\n\u001b[0;32m    170\u001b[0m         collection_id\u001b[38;5;241m=\u001b[39mname,\n\u001b[0;32m    171\u001b[0m         request\u001b[38;5;241m=\u001b[39mrequest,\n\u001b[0;32m    172\u001b[0m     )\n\u001b[0;32m    173\u001b[0m \u001b[38;5;28;01melse\u001b[39;00m:\n\u001b[0;32m    174\u001b[0m     submitted \u001b[38;5;241m=\u001b[39m \u001b[38;5;28mself\u001b[39m\u001b[38;5;241m.\u001b[39mclient\u001b[38;5;241m.\u001b[39msubmit(\n\u001b[0;32m    175\u001b[0m         collection_id\u001b[38;5;241m=\u001b[39mname,\n\u001b[0;32m    176\u001b[0m         request\u001b[38;5;241m=\u001b[39mrequest,\n\u001b[0;32m    177\u001b[0m     )\n",
      "File \u001b[1;32m~\\anaconda3\\Lib\\site-packages\\datapi\\api_client.py:413\u001b[0m, in \u001b[0;36mApiClient.submit_and_wait_on_results\u001b[1;34m(self, collection_id, request)\u001b[0m\n\u001b[0;32m    397\u001b[0m \u001b[38;5;28;01mdef\u001b[39;00m \u001b[38;5;21msubmit_and_wait_on_results\u001b[39m(\n\u001b[0;32m    398\u001b[0m     \u001b[38;5;28mself\u001b[39m, collection_id: \u001b[38;5;28mstr\u001b[39m, request: \u001b[38;5;28mdict\u001b[39m[\u001b[38;5;28mstr\u001b[39m, Any]\n\u001b[0;32m    399\u001b[0m ) \u001b[38;5;241m-\u001b[39m\u001b[38;5;241m>\u001b[39m datapi\u001b[38;5;241m.\u001b[39mResults:\n\u001b[0;32m    400\u001b[0m \u001b[38;5;250m    \u001b[39m\u001b[38;5;124;03m\"\"\"Submit a request and wait for the results to be ready.\u001b[39;00m\n\u001b[0;32m    401\u001b[0m \n\u001b[0;32m    402\u001b[0m \u001b[38;5;124;03m    Parameters\u001b[39;00m\n\u001b[1;32m   (...)\u001b[0m\n\u001b[0;32m    411\u001b[0m \u001b[38;5;124;03m    datapi.Results\u001b[39;00m\n\u001b[0;32m    412\u001b[0m \u001b[38;5;124;03m    \"\"\"\u001b[39;00m\n\u001b[1;32m--> 413\u001b[0m     \u001b[38;5;28;01mreturn\u001b[39;00m \u001b[38;5;28mself\u001b[39m\u001b[38;5;241m.\u001b[39m_retrieve_api\u001b[38;5;241m.\u001b[39msubmit(collection_id, request)\u001b[38;5;241m.\u001b[39mmake_results()\n",
      "File \u001b[1;32m~\\anaconda3\\Lib\\site-packages\\datapi\\processing.py:489\u001b[0m, in \u001b[0;36mRemote.make_results\u001b[1;34m(self, wait)\u001b[0m\n\u001b[0;32m    487\u001b[0m \u001b[38;5;28;01mdef\u001b[39;00m \u001b[38;5;21mmake_results\u001b[39m(\u001b[38;5;28mself\u001b[39m, wait: \u001b[38;5;28mbool\u001b[39m \u001b[38;5;241m=\u001b[39m \u001b[38;5;28;01mTrue\u001b[39;00m) \u001b[38;5;241m-\u001b[39m\u001b[38;5;241m>\u001b[39m Results:\n\u001b[0;32m    488\u001b[0m     \u001b[38;5;28;01mif\u001b[39;00m wait:\n\u001b[1;32m--> 489\u001b[0m         \u001b[38;5;28mself\u001b[39m\u001b[38;5;241m.\u001b[39m_wait_on_results()\n\u001b[0;32m    490\u001b[0m     response \u001b[38;5;241m=\u001b[39m \u001b[38;5;28mself\u001b[39m\u001b[38;5;241m.\u001b[39m_get_api_response(\u001b[38;5;124m\"\u001b[39m\u001b[38;5;124mget\u001b[39m\u001b[38;5;124m\"\u001b[39m)\n\u001b[0;32m    491\u001b[0m     \u001b[38;5;28;01mtry\u001b[39;00m:\n",
      "File \u001b[1;32m~\\anaconda3\\Lib\\site-packages\\datapi\\processing.py:467\u001b[0m, in \u001b[0;36mRemote._wait_on_results\u001b[1;34m(self)\u001b[0m\n\u001b[0;32m    465\u001b[0m \u001b[38;5;28;01mdef\u001b[39;00m \u001b[38;5;21m_wait_on_results\u001b[39m(\u001b[38;5;28mself\u001b[39m) \u001b[38;5;241m-\u001b[39m\u001b[38;5;241m>\u001b[39m \u001b[38;5;28;01mNone\u001b[39;00m:\n\u001b[0;32m    466\u001b[0m     sleep \u001b[38;5;241m=\u001b[39m \u001b[38;5;241m1.0\u001b[39m\n\u001b[1;32m--> 467\u001b[0m     \u001b[38;5;28;01mwhile\u001b[39;00m \u001b[38;5;129;01mnot\u001b[39;00m \u001b[38;5;28mself\u001b[39m\u001b[38;5;241m.\u001b[39mresults_ready:\n\u001b[0;32m    468\u001b[0m         \u001b[38;5;28mself\u001b[39m\u001b[38;5;241m.\u001b[39mdebug(\u001b[38;5;124mf\u001b[39m\u001b[38;5;124m\"\u001b[39m\u001b[38;5;124mresults not ready, waiting for \u001b[39m\u001b[38;5;132;01m{\u001b[39;00msleep\u001b[38;5;132;01m}\u001b[39;00m\u001b[38;5;124m seconds\u001b[39m\u001b[38;5;124m\"\u001b[39m)\n\u001b[0;32m    469\u001b[0m         time\u001b[38;5;241m.\u001b[39msleep(sleep)\n",
      "File \u001b[1;32m~\\anaconda3\\Lib\\site-packages\\datapi\\processing.py:475\u001b[0m, in \u001b[0;36mRemote.results_ready\u001b[1;34m(self)\u001b[0m\n\u001b[0;32m    472\u001b[0m \u001b[38;5;129m@property\u001b[39m\n\u001b[0;32m    473\u001b[0m \u001b[38;5;28;01mdef\u001b[39;00m \u001b[38;5;21mresults_ready\u001b[39m(\u001b[38;5;28mself\u001b[39m) \u001b[38;5;241m-\u001b[39m\u001b[38;5;241m>\u001b[39m \u001b[38;5;28mbool\u001b[39m:\n\u001b[0;32m    474\u001b[0m \u001b[38;5;250m    \u001b[39m\u001b[38;5;124;03m\"\"\"Check if results are ready.\"\"\"\u001b[39;00m\n\u001b[1;32m--> 475\u001b[0m     status \u001b[38;5;241m=\u001b[39m \u001b[38;5;28mself\u001b[39m\u001b[38;5;241m.\u001b[39mstatus\n\u001b[0;32m    476\u001b[0m     \u001b[38;5;28;01mif\u001b[39;00m status \u001b[38;5;241m==\u001b[39m \u001b[38;5;124m\"\u001b[39m\u001b[38;5;124msuccessful\u001b[39m\u001b[38;5;124m\"\u001b[39m:\n\u001b[0;32m    477\u001b[0m         \u001b[38;5;28;01mreturn\u001b[39;00m \u001b[38;5;28;01mTrue\u001b[39;00m\n",
      "File \u001b[1;32m~\\anaconda3\\Lib\\site-packages\\datapi\\processing.py:439\u001b[0m, in \u001b[0;36mRemote.status\u001b[1;34m(self)\u001b[0m\n\u001b[0;32m    436\u001b[0m \u001b[38;5;129m@property\u001b[39m\n\u001b[0;32m    437\u001b[0m \u001b[38;5;28;01mdef\u001b[39;00m \u001b[38;5;21mstatus\u001b[39m(\u001b[38;5;28mself\u001b[39m) \u001b[38;5;241m-\u001b[39m\u001b[38;5;241m>\u001b[39m \u001b[38;5;28mstr\u001b[39m:\n\u001b[0;32m    438\u001b[0m \u001b[38;5;250m    \u001b[39m\u001b[38;5;124;03m\"\"\"Request status.\"\"\"\u001b[39;00m\n\u001b[1;32m--> 439\u001b[0m     reply \u001b[38;5;241m=\u001b[39m \u001b[38;5;28mself\u001b[39m\u001b[38;5;241m.\u001b[39mjson\n\u001b[0;32m    440\u001b[0m     \u001b[38;5;28mself\u001b[39m\u001b[38;5;241m.\u001b[39m_log_metadata(reply\u001b[38;5;241m.\u001b[39mget(\u001b[38;5;124m\"\u001b[39m\u001b[38;5;124mmetadata\u001b[39m\u001b[38;5;124m\"\u001b[39m, {}))\n\u001b[0;32m    442\u001b[0m     status \u001b[38;5;241m=\u001b[39m reply[\u001b[38;5;124m\"\u001b[39m\u001b[38;5;124mstatus\u001b[39m\u001b[38;5;124m\"\u001b[39m]\n",
      "File \u001b[1;32m~\\anaconda3\\Lib\\site-packages\\datapi\\processing.py:424\u001b[0m, in \u001b[0;36mRemote.json\u001b[1;34m(self)\u001b[0m\n\u001b[0;32m    422\u001b[0m \u001b[38;5;28;01mif\u001b[39;00m \u001b[38;5;28mself\u001b[39m\u001b[38;5;241m.\u001b[39mlog_start_time:\n\u001b[0;32m    423\u001b[0m     params[\u001b[38;5;124m\"\u001b[39m\u001b[38;5;124mlogStartTime\u001b[39m\u001b[38;5;124m\"\u001b[39m] \u001b[38;5;241m=\u001b[39m \u001b[38;5;28mself\u001b[39m\u001b[38;5;241m.\u001b[39mlog_start_time\n\u001b[1;32m--> 424\u001b[0m \u001b[38;5;28;01mreturn\u001b[39;00m \u001b[38;5;28mself\u001b[39m\u001b[38;5;241m.\u001b[39m_get_api_response(\u001b[38;5;124m\"\u001b[39m\u001b[38;5;124mget\u001b[39m\u001b[38;5;124m\"\u001b[39m, params\u001b[38;5;241m=\u001b[39mparams)\u001b[38;5;241m.\u001b[39m_json_dict\n",
      "File \u001b[1;32m~\\anaconda3\\Lib\\site-packages\\datapi\\processing.py:409\u001b[0m, in \u001b[0;36mRemote._get_api_response\u001b[1;34m(self, method, **kwargs)\u001b[0m\n\u001b[0;32m    408\u001b[0m \u001b[38;5;28;01mdef\u001b[39;00m \u001b[38;5;21m_get_api_response\u001b[39m(\u001b[38;5;28mself\u001b[39m, method: \u001b[38;5;28mstr\u001b[39m, \u001b[38;5;241m*\u001b[39m\u001b[38;5;241m*\u001b[39mkwargs: Any) \u001b[38;5;241m-\u001b[39m\u001b[38;5;241m>\u001b[39m ApiResponse:\n\u001b[1;32m--> 409\u001b[0m     \u001b[38;5;28;01mreturn\u001b[39;00m ApiResponse\u001b[38;5;241m.\u001b[39mfrom_request(\n\u001b[0;32m    410\u001b[0m         method, \u001b[38;5;28mself\u001b[39m\u001b[38;5;241m.\u001b[39murl, \u001b[38;5;241m*\u001b[39m\u001b[38;5;241m*\u001b[39m\u001b[38;5;28mself\u001b[39m\u001b[38;5;241m.\u001b[39m_request_kwargs, \u001b[38;5;241m*\u001b[39m\u001b[38;5;241m*\u001b[39mkwargs\n\u001b[0;32m    411\u001b[0m     )\n",
      "File \u001b[1;32m~\\anaconda3\\Lib\\site-packages\\datapi\\processing.py:172\u001b[0m, in \u001b[0;36mApiResponse.from_request\u001b[1;34m(cls, method, url, headers, session, retry_options, request_options, download_options, sleep_max, cleanup, log_callback, log_messages, **kwargs)\u001b[0m\n\u001b[0;32m    166\u001b[0m inputs \u001b[38;5;241m=\u001b[39m kwargs\u001b[38;5;241m.\u001b[39mget(\u001b[38;5;124m\"\u001b[39m\u001b[38;5;124mjson\u001b[39m\u001b[38;5;124m\"\u001b[39m, {})\u001b[38;5;241m.\u001b[39mget(\u001b[38;5;124m\"\u001b[39m\u001b[38;5;124minputs\u001b[39m\u001b[38;5;124m\"\u001b[39m, {})\n\u001b[0;32m    167\u001b[0m log(\n\u001b[0;32m    168\u001b[0m     logging\u001b[38;5;241m.\u001b[39mDEBUG,\n\u001b[0;32m    169\u001b[0m     \u001b[38;5;124mf\u001b[39m\u001b[38;5;124m\"\u001b[39m\u001b[38;5;132;01m{\u001b[39;00mmethod\u001b[38;5;241m.\u001b[39mupper()\u001b[38;5;132;01m}\u001b[39;00m\u001b[38;5;124m \u001b[39m\u001b[38;5;132;01m{\u001b[39;00murl\u001b[38;5;132;01m}\u001b[39;00m\u001b[38;5;124m \u001b[39m\u001b[38;5;132;01m{\u001b[39;00minputs\u001b[38;5;250m \u001b[39m\u001b[38;5;129;01mor\u001b[39;00m\u001b[38;5;250m \u001b[39m\u001b[38;5;124m'\u001b[39m\u001b[38;5;124m'\u001b[39m\u001b[38;5;132;01m}\u001b[39;00m\u001b[38;5;124m\"\u001b[39m\u001b[38;5;241m.\u001b[39mstrip(),\n\u001b[0;32m    170\u001b[0m     callback\u001b[38;5;241m=\u001b[39mlog_callback,\n\u001b[0;32m    171\u001b[0m )\n\u001b[1;32m--> 172\u001b[0m response \u001b[38;5;241m=\u001b[39m robust_request(\n\u001b[0;32m    173\u001b[0m     method, url, headers\u001b[38;5;241m=\u001b[39mheaders, \u001b[38;5;241m*\u001b[39m\u001b[38;5;241m*\u001b[39mrequest_options, \u001b[38;5;241m*\u001b[39m\u001b[38;5;241m*\u001b[39mkwargs\n\u001b[0;32m    174\u001b[0m )\n\u001b[0;32m    175\u001b[0m log(logging\u001b[38;5;241m.\u001b[39mDEBUG, \u001b[38;5;124mf\u001b[39m\u001b[38;5;124m\"\u001b[39m\u001b[38;5;124mREPLY \u001b[39m\u001b[38;5;132;01m{\u001b[39;00mresponse\u001b[38;5;241m.\u001b[39mtext\u001b[38;5;132;01m}\u001b[39;00m\u001b[38;5;124m\"\u001b[39m, callback\u001b[38;5;241m=\u001b[39mlog_callback)\n\u001b[0;32m    177\u001b[0m cads_raise_for_status(response)\n",
      "File \u001b[1;32m~\\anaconda3\\Lib\\site-packages\\multiurl\\http.py:521\u001b[0m, in \u001b[0;36mrobust.<locals>.wrapped\u001b[1;34m(url, *args, **kwargs)\u001b[0m\n\u001b[0;32m    519\u001b[0m \u001b[38;5;28;01melse\u001b[39;00m:\n\u001b[0;32m    520\u001b[0m     LOG\u001b[38;5;241m.\u001b[39mwarning(\u001b[38;5;124m\"\u001b[39m\u001b[38;5;124mRetrying in \u001b[39m\u001b[38;5;132;01m%s\u001b[39;00m\u001b[38;5;124m seconds\u001b[39m\u001b[38;5;124m\"\u001b[39m, retry_after)\n\u001b[1;32m--> 521\u001b[0m     time\u001b[38;5;241m.\u001b[39msleep(retry_after)\n\u001b[0;32m    522\u001b[0m     LOG\u001b[38;5;241m.\u001b[39minfo(\u001b[38;5;124m\"\u001b[39m\u001b[38;5;124mRetrying now...\u001b[39m\u001b[38;5;124m\"\u001b[39m)\n",
      "\u001b[1;31mKeyboardInterrupt\u001b[0m: "
     ]
    }
   ],
   "source": [
    "import cdsapi\n",
    "import calendar\n",
    "\n",
    "# 初始化客户端\n",
    "client = cdsapi.Client()\n",
    "\n",
    "# 定义数据集名称（根据实际数据集调整）\n",
    "dataset = \"reanalysis-era5-single-levels\"  # 示例为 ERA5 单层数据\n",
    "\n",
    "# 定义时间范围\n",
    "start_year = 2020\n",
    "end_year = 2023\n",
    "years = [str(year) for year in range(start_year, end_year + 1)]\n",
    "months = [str(i).zfill(2) for i in range(1, 13)]\n",
    "\n",
    "# 循环下载数据\n",
    "for year in years:\n",
    "    for month in months:\n",
    "        # 计算当月天数\n",
    "        num_days = calendar.monthrange(int(year), int(month))[1]\n",
    "        days = [str(day).zfill(2) for day in range(1, num_days + 1)]\n",
    "\n",
    "        # 构建请求参数（按新 API 格式）\n",
    "        request = {\n",
    "            \"product_type\": \"reanalysis\",  # 必需参数\n",
    "            \"variable\": [\n",
    "                \"2m_dewpoint_temperature\",\n",
    "                \"2m_temperature\",\n",
    "                \"surface_solar_radiation_downwards\",\n",
    "                \"10m_u_component_of_wind\",\n",
    "                \"10m_v_component_of_wind\",\n",
    "                \"surface_pressure\",\n",
    "                \"total_precipitation\"\n",
    "            ],\n",
    "            \"year\": year,\n",
    "            \"month\": month,\n",
    "            \"day\": days,\n",
    "            \"time\": [f\"{hour:02d}:00\" for hour in range(24)],  # 生成 24 小时\n",
    "            \"area\": [60, -139, 48, -113],  # 北, 西, 南, 东\n",
    "            \"format\": \"netcdf\",  # 合并 data_format 和 download_format\n",
    "        }\n",
    "\n",
    "        # 定义目标文件名\n",
    "        target = f\"ERA5_{year}_{month}.nc\"\n",
    "\n",
    "        # 调用新 API 下载（直接传递 target）\n",
    "        try:\n",
    "            client.retrieve(dataset, request, target)\n",
    "            print(f\"成功下载: {target}\")\n",
    "        except Exception as e:\n",
    "            print(f\"下载失败 {year}-{month}: {e}\")"
   ]
  },
  {
   "cell_type": "markdown",
   "id": "3101b260",
   "metadata": {},
   "source": [
    "Running code above, ERA5_2020_01.nc - ERA5_2020_03.nc were downloaded. Other months were not. Processing slowly."
   ]
  },
  {
   "cell_type": "markdown",
   "id": "7c0ff2af",
   "metadata": {},
   "source": [
    "Downloade 2023 only, zipped when stored."
   ]
  },
  {
   "cell_type": "code",
   "execution_count": null,
   "id": "94f91c67",
   "metadata": {},
   "outputs": [
    {
     "name": "stderr",
     "output_type": "stream",
     "text": [
      "2025-02-10 15:20:40,523 INFO [2024-09-26T00:00:00] Watch our [Forum](https://forum.ecmwf.int/) for Announcements, news and other discussed topics.\n",
      "2025-02-10 15:20:40,525 WARNING [2024-06-16T00:00:00] CDS API syntax is changed and some keys or parameter names may have also changed. To avoid requests failing, please use the \"Show API request code\" tool on the dataset Download Form to check you are using the correct syntax for your API request.\n",
      "2025-02-10 15:20:41,433 INFO Request ID is efaf3f2f-23bc-4f6f-a488-eb10a21a852d\n",
      "2025-02-10 15:20:41,950 INFO status has been updated to accepted\n",
      "2025-02-10 15:20:50,991 INFO status has been updated to running\n",
      "2025-02-10 15:27:04,359 INFO status has been updated to successful\n"
     ]
    },
    {
     "data": {
      "application/vnd.jupyter.widget-view+json": {
       "model_id": "",
       "version_major": 2,
       "version_minor": 0
      },
      "text/plain": [
       "75bc05b8120709b930e73f9c27b134c7.grib:   0%|          | 0.00/51.6M [00:00<?, ?B/s]"
      ]
     },
     "metadata": {},
     "output_type": "display_data"
    },
    {
     "name": "stdout",
     "output_type": "stream",
     "text": [
      "成功下载（压缩文件）: ERA5_2023_01.zip\n"
     ]
    },
    {
     "name": "stderr",
     "output_type": "stream",
     "text": [
      "2025-02-10 15:28:02,656 INFO Request ID is 14de7c4d-1f1f-4237-bd7c-d2158a84630a\n",
      "2025-02-10 15:28:02,893 INFO status has been updated to accepted\n",
      "2025-02-10 15:28:08,610 INFO status has been updated to running\n",
      "2025-02-10 15:32:25,042 INFO status has been updated to successful\n"
     ]
    },
    {
     "data": {
      "application/vnd.jupyter.widget-view+json": {
       "model_id": "",
       "version_major": 2,
       "version_minor": 0
      },
      "text/plain": [
       "65ba55eda4340259799d2075dc38627d.grib:   0%|          | 0.00/46.6M [00:00<?, ?B/s]"
      ]
     },
     "metadata": {},
     "output_type": "display_data"
    },
    {
     "name": "stdout",
     "output_type": "stream",
     "text": [
      "成功下载（压缩文件）: ERA5_2023_02.zip\n"
     ]
    },
    {
     "name": "stderr",
     "output_type": "stream",
     "text": [
      "2025-02-10 15:33:16,956 INFO Request ID is 6e3087f6-c856-412f-932c-c55e78e135f4\n",
      "2025-02-10 15:33:17,163 INFO status has been updated to accepted\n",
      "2025-02-10 15:33:26,154 INFO status has been updated to running\n",
      "2025-02-10 15:37:43,485 INFO status has been updated to successful\n"
     ]
    },
    {
     "data": {
      "application/vnd.jupyter.widget-view+json": {
       "model_id": "",
       "version_major": 2,
       "version_minor": 0
      },
      "text/plain": [
       "840aeb36956e4f3d7a1d2d60e8fef15.grib:   0%|          | 0.00/51.6M [00:00<?, ?B/s]"
      ]
     },
     "metadata": {},
     "output_type": "display_data"
    },
    {
     "name": "stdout",
     "output_type": "stream",
     "text": [
      "成功下载（压缩文件）: ERA5_2023_03.zip\n"
     ]
    },
    {
     "name": "stderr",
     "output_type": "stream",
     "text": [
      "2025-02-10 15:38:23,282 INFO Request ID is 7c4bbf2b-ba4d-469a-ae7f-aeece026983b\n",
      "2025-02-10 15:38:23,550 INFO status has been updated to accepted\n",
      "2025-02-10 15:38:32,573 INFO status has been updated to running\n"
     ]
    }
   ],
   "source": [
    "import cdsapi\n",
    "import calendar\n",
    "\n",
    "# 初始化客户端\n",
    "client = cdsapi.Client()\n",
    "\n",
    "# 定义数据集名称（确保名称正确）\n",
    "dataset = \"reanalysis-era5-single-levels\"\n",
    "\n",
    "# 定义时间范围（示例仅下载 2023 年）\n",
    "start_year = 2023\n",
    "end_year = 2023\n",
    "years = [str(year) for year in range(start_year, end_year + 1)]\n",
    "months = [str(i).zfill(2) for i in range(1, 13)]\n",
    "\n",
    "# 循环下载数据\n",
    "for year in years:\n",
    "    for month in months:\n",
    "        # 计算当月天数\n",
    "        num_days = calendar.monthrange(int(year), int(month))[1]\n",
    "        days = [str(day).zfill(2) for day in range(1, num_days + 1)]\n",
    "\n",
    "        # 构建请求参数（关键改动：format 设为 zip）\n",
    "        request = {\n",
    "            \"product_type\": \"reanalysis\",\n",
    "            \"variable\": [\n",
    "                \"2m_dewpoint_temperature\",\n",
    "                \"2m_temperature\",\n",
    "                \"surface_solar_radiation_downwards\",\n",
    "                \"10m_u_component_of_wind\",\n",
    "                \"10m_v_component_of_wind\",\n",
    "                \"surface_pressure\",\n",
    "                \"total_precipitation\"\n",
    "            ],\n",
    "            \"year\": year,\n",
    "            \"month\": month,\n",
    "            \"day\": days,\n",
    "            \"time\": [f\"{hour:02d}:00\" for hour in range(24)],  # 24 小时\n",
    "            \"area\": [60, -139, 48, -113],  # 北, 西, 南, 东\n",
    "            \"format\": \"zip\",  # 直接请求 ZIP 压缩格式\n",
    "        }\n",
    "\n",
    "        # 定义目标文件名（后缀改为 .zip）\n",
    "        target = f\"ERA5_{year}_{month}.zip\"\n",
    "\n",
    "        # 调用 API 下载\n",
    "        try:\n",
    "            client.retrieve(dataset, request, target)\n",
    "            print(f\"成功下载（压缩文件）: {target}\")\n",
    "        except Exception as e:\n",
    "            print(f\"下载失败 {year}-{month}: {e}\")"
   ]
  },
  {
   "cell_type": "code",
   "execution_count": null,
   "id": "bf867240",
   "metadata": {},
   "outputs": [],
   "source": []
  }
 ],
 "metadata": {
  "kernelspec": {
   "display_name": "Python 3 (ipykernel)",
   "language": "python",
   "name": "python3"
  },
  "language_info": {
   "codemirror_mode": {
    "name": "ipython",
    "version": 3
   },
   "file_extension": ".py",
   "mimetype": "text/x-python",
   "name": "python",
   "nbconvert_exporter": "python",
   "pygments_lexer": "ipython3",
   "version": "3.11.3"
  }
 },
 "nbformat": 4,
 "nbformat_minor": 5
}
