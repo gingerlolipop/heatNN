{
 "cells": [
  {
   "cell_type": "code",
   "execution_count": 1,
   "id": "b5703fd4",
   "metadata": {},
   "outputs": [
    {
     "data": {
      "text/plain": [
       "'C:\\\\Users\\\\jing007.stu\\\\Documents\\\\GitHub\\\\heatNN\\\\Script'"
      ]
     },
     "execution_count": 1,
     "metadata": {},
     "output_type": "execute_result"
    }
   ],
   "source": [
    "pwd()"
   ]
  },
  {
   "cell_type": "code",
   "execution_count": 3,
   "id": "20580089",
   "metadata": {},
   "outputs": [
    {
     "name": "stdout",
     "output_type": "stream",
     "text": [
      "['2020', '2021', '2022', '2023']\n",
      "['01', '02', '03', '04', '05', '06', '07', '08', '09', '10', '11', '12']\n"
     ]
    }
   ],
   "source": [
    "start_year = 2020\n",
    "end_year = 2023\n",
    "years = [str(year) for year in range(start_year, end_year + 1)]\n",
    "print(years)\n",
    "months = [str(i).zfill(2) for i in range(1, 13)]\n",
    "print(months)"
   ]
  },
  {
   "cell_type": "code",
   "execution_count": 4,
   "id": "cf16d946",
   "metadata": {},
   "outputs": [],
   "source": [
    "months = [str(i).zfill(2) for i in range(1, 13)]"
   ]
  },
  {
   "cell_type": "code",
   "execution_count": 5,
   "id": "fbe07190",
   "metadata": {
    "scrolled": true
   },
   "outputs": [
    {
     "data": {
      "text/plain": [
       "['01', '02', '03', '04', '05', '06', '07', '08', '09', '10', '11', '12']"
      ]
     },
     "execution_count": 5,
     "metadata": {},
     "output_type": "execute_result"
    }
   ],
   "source": [
    "months"
   ]
  },
  {
   "cell_type": "code",
   "execution_count": 1,
   "id": "a8246328",
   "metadata": {},
   "outputs": [
    {
     "name": "stdout",
     "output_type": "stream",
     "text": [
      "Requirement already satisfied: cdsapi>=0.7.4 in c:\\users\\jing007.stu\\appdata\\local\\anaconda3\\lib\\site-packages (0.7.5)\n",
      "Requirement already satisfied: datapi in c:\\users\\jing007.stu\\appdata\\local\\anaconda3\\lib\\site-packages (from cdsapi>=0.7.4) (0.2.0)\n",
      "Requirement already satisfied: requests>=2.5.0 in c:\\users\\jing007.stu\\appdata\\local\\anaconda3\\lib\\site-packages (from cdsapi>=0.7.4) (2.31.0)\n",
      "Requirement already satisfied: tqdm in c:\\users\\jing007.stu\\appdata\\local\\anaconda3\\lib\\site-packages (from cdsapi>=0.7.4) (4.65.0)\n",
      "Requirement already satisfied: charset-normalizer<4,>=2 in c:\\users\\jing007.stu\\appdata\\local\\anaconda3\\lib\\site-packages (from requests>=2.5.0->cdsapi>=0.7.4) (2.0.4)\n",
      "Requirement already satisfied: idna<4,>=2.5 in c:\\users\\jing007.stu\\appdata\\local\\anaconda3\\lib\\site-packages (from requests>=2.5.0->cdsapi>=0.7.4) (3.4)\n",
      "Requirement already satisfied: urllib3<3,>=1.21.1 in c:\\users\\jing007.stu\\appdata\\local\\anaconda3\\lib\\site-packages (from requests>=2.5.0->cdsapi>=0.7.4) (1.26.16)\n",
      "Requirement already satisfied: certifi>=2017.4.17 in c:\\users\\jing007.stu\\appdata\\local\\anaconda3\\lib\\site-packages (from requests>=2.5.0->cdsapi>=0.7.4) (2023.7.22)\n",
      "Requirement already satisfied: attrs in c:\\users\\jing007.stu\\appdata\\local\\anaconda3\\lib\\site-packages (from datapi->cdsapi>=0.7.4) (22.1.0)\n",
      "Requirement already satisfied: multiurl>=0.3.2 in c:\\users\\jing007.stu\\appdata\\local\\anaconda3\\lib\\site-packages (from datapi->cdsapi>=0.7.4) (0.3.3)\n",
      "Requirement already satisfied: typing-extensions in c:\\users\\jing007.stu\\appdata\\local\\anaconda3\\lib\\site-packages (from datapi->cdsapi>=0.7.4) (4.7.1)\n",
      "Requirement already satisfied: colorama in c:\\users\\jing007.stu\\appdata\\local\\anaconda3\\lib\\site-packages (from tqdm->cdsapi>=0.7.4) (0.4.6)\n",
      "Requirement already satisfied: pytz in c:\\users\\jing007.stu\\appdata\\local\\anaconda3\\lib\\site-packages (from multiurl>=0.3.2->datapi->cdsapi>=0.7.4) (2023.3.post1)\n",
      "Requirement already satisfied: python-dateutil in c:\\users\\jing007.stu\\appdata\\local\\anaconda3\\lib\\site-packages (from multiurl>=0.3.2->datapi->cdsapi>=0.7.4) (2.8.2)\n",
      "Requirement already satisfied: six>=1.5 in c:\\users\\jing007.stu\\appdata\\local\\anaconda3\\lib\\site-packages (from python-dateutil->multiurl>=0.3.2->datapi->cdsapi>=0.7.4) (1.16.0)\n"
     ]
    }
   ],
   "source": [
    "!pip install \"cdsapi>=0.7.4\""
   ]
  },
  {
   "cell_type": "code",
   "execution_count": 2,
   "id": "f331d833",
   "metadata": {},
   "outputs": [],
   "source": [
    "import cdsapi\n",
    "import calendar"
   ]
  },
  {
   "cell_type": "code",
   "execution_count": null,
   "id": "5f747a8f",
   "metadata": {},
   "outputs": [],
   "source": []
  },
  {
   "cell_type": "markdown",
   "id": "99aed1dc",
   "metadata": {},
   "source": [
    "## Year 2020-2023"
   ]
  },
  {
   "cell_type": "code",
   "execution_count": 6,
   "id": "727a9d12",
   "metadata": {},
   "outputs": [
    {
     "name": "stdout",
     "output_type": "stream",
     "text": [
      "['2020', '2021', '2022', '2023', '2024', '2025']\n",
      "['01', '02', '03', '04', '05', '06', '07', '08', '09', '10', '11', '12']\n"
     ]
    }
   ],
   "source": [
    "# Define the range of years\n",
    "start_year = 2020\n",
    "end_year = 2025\n",
    "years = [str(year) for year in range(start_year, end_year + 1)]\n",
    "print(years)\n",
    "\n",
    "# Define months\n",
    "months = [str(i).zfill(2) for i in range(1, 13)]\n",
    "print(months)"
   ]
  },
  {
   "cell_type": "code",
   "execution_count": 9,
   "id": "bbed529d",
   "metadata": {},
   "outputs": [],
   "source": [
    "dataset = \"reanalysis-era5-land\""
   ]
  },
  {
   "cell_type": "code",
   "execution_count": null,
   "id": "33e0a80d",
   "metadata": {},
   "outputs": [],
   "source": [
    "client = cdsapi.Client()\n",
    "\n",
    "dataset = dataset\n",
    "request = {\n",
    "    <SELECTION-REQUEST>\n",
    "}\n",
    "target = \"download.zip\"\n",
    "\n",
    "client.retrieve(dataset, request, target)\n"
   ]
  },
  {
   "cell_type": "code",
   "execution_count": null,
   "id": "3413c717",
   "metadata": {},
   "outputs": [],
   "source": [
    "import cdsapi\n",
    "  \n",
    "client = cdsapi.Client()\n",
    "  \n",
    "dataset = 'reanalysis-era5-pressure-levels'\n",
    "request = {\n",
    "    'product_type': ['reanalysis'],\n",
    "    'variable': ['geopotential'],\n",
    "    'year': ['2024'],\n",
    "    'month': ['03'],\n",
    "    'day': ['01'],\n",
    "    'time': ['13:00'],\n",
    "    'pressure_level': ['1000'],\n",
    "    'data_format': 'grib',\n",
    "}\n",
    "target = 'download.grib'\n",
    "\n",
    "client.retrieve(dataset, request, target)"
   ]
  },
  {
   "cell_type": "code",
   "execution_count": null,
   "id": "e15e7303",
   "metadata": {
    "scrolled": true
   },
   "outputs": [
    {
     "name": "stdout",
     "output_type": "stream",
     "text": [
      "['2020', '2021', '2022', '2023', '2024', '2025']\n",
      "['01', '02', '03', '04', '05', '06', '07', '08', '09', '10', '11', '12']\n"
     ]
    },
    {
     "name": "stderr",
     "output_type": "stream",
     "text": [
      "2025-02-10 12:13:51,856 INFO [2024-09-26T00:00:00] Watch our [Forum](https://forum.ecmwf.int/) for Announcements, news and other discussed topics.\n",
      "2025-02-10 12:13:51,856 WARNING [2024-06-16T00:00:00] CDS API syntax is changed and some keys or parameter names may have also changed. To avoid requests failing, please use the \"Show API request code\" tool on the dataset Download Form to check you are using the correct syntax for your API request.\n",
      "2025-02-10 12:13:52,283 INFO Request ID is 5373e70f-bb8b-4972-bb65-a153b8f2bf4e\n",
      "2025-02-10 12:13:52,497 INFO status has been updated to accepted\n",
      "2025-02-10 12:14:01,433 INFO status has been updated to running\n",
      "Recovering from connection error [HTTPSConnectionPool(host='cds.climate.copernicus.eu', port=443): Max retries exceeded with url: /api/retrieve/v1/jobs/5373e70f-bb8b-4972-bb65-a153b8f2bf4e?log=True&request=True (Caused by ConnectTimeoutError(<urllib3.connection.HTTPSConnection object at 0x000001ACE15F0F50>, 'Connection to cds.climate.copernicus.eu timed out. (connect timeout=60)'))], attemps 1 of 500\n",
      "Retrying in 120 seconds\n"
     ]
    }
   ],
   "source": [
    "\n",
    "\n",
    "# Define the range of years\n",
    "start_year = 2020\n",
    "end_year = 2025\n",
    "years = [str(year) for year in range(start_year, end_year + 1)]\n",
    "print(years)\n",
    "\n",
    "# Define months\n",
    "months = [str(i).zfill(2) for i in range(1, 13)]\n",
    "print(months)\n",
    "\n",
    "# Initialize the CDS API client\n",
    "client = cdsapi.Client()\n",
    "\n",
    "# Loop over the years and months to build the request\n",
    "for year in years:\n",
    "    for month in months:\n",
    "        # Get the number of days in the current month and year\n",
    "        num_days = calendar.monthrange(int(year), int(month))[1]\n",
    "        days = [str(day).zfill(2) for day in range(1, num_days + 1)]\n",
    "\n",
    "        # Define the request for each month\n",
    "        request = {\n",
    "            \"variable\": [\n",
    "                \"2m_dewpoint_temperature\",\n",
    "                \"2m_temperature\",\n",
    "                \"surface_solar_radiation_downwards\",\n",
    "                \"10m_u_component_of_wind\",\n",
    "                \"10m_v_component_of_wind\",\n",
    "                \"surface_pressure\",\n",
    "                \"total_precipitation\"\n",
    "            ],\n",
    "            \"year\": year,\n",
    "            \"month\": month,\n",
    "            \"day\": days,\n",
    "            \"time\": [\n",
    "                \"00:00\", \"01:00\", \"02:00\",\n",
    "                \"03:00\", \"04:00\", \"05:00\",\n",
    "                \"06:00\", \"07:00\", \"08:00\",\n",
    "                \"09:00\", \"10:00\", \"11:00\",\n",
    "                \"12:00\", \"13:00\", \"14:00\",\n",
    "                \"15:00\", \"16:00\", \"17:00\",\n",
    "                \"18:00\", \"19:00\", \"20:00\",\n",
    "                \"21:00\", \"22:00\", \"23:00\"\n",
    "            ],\n",
    "            \"data_format\": \"netcdf\",\n",
    "            \"download_format\": \"zip\",\n",
    "            \"area\": [60, -139, 48, -113]\n",
    "        }\n",
    "\n",
    "        # Retrieve the data for the specific year and month\n",
    "        client.retrieve(dataset, request).download(f\"ERA5_{year}_{month}.zip\")\n"
   ]
  },
  {
   "cell_type": "markdown",
   "id": "3101b260",
   "metadata": {},
   "source": [
    "Year 1962-1965"
   ]
  },
  {
   "cell_type": "code",
   "execution_count": 10,
   "id": "554abb70",
   "metadata": {},
   "outputs": [
    {
     "name": "stdout",
     "output_type": "stream",
     "text": [
      "['01', '02', '03', '04', '05', '06', '07', '08', '09', '10', '11', '12']\n"
     ]
    },
    {
     "name": "stderr",
     "output_type": "stream",
     "text": [
      "2024-10-02 17:22:14,060 INFO [2024-09-28T00:00:00] **Welcome to the New Climate Data Store (CDS)!** This new system is in its early days of full operations and still undergoing enhancements and fine tuning. Some disruptions are to be expected. Your \n",
      "[feedback](https://jira.ecmwf.int/plugins/servlet/desk/portal/1/create/202) is key to improve the user experience on the new CDS for the benefit of everyone. Thank you.\n",
      "2024-10-02 17:22:14,061 WARNING [2024-09-26T00:00:00] Should you have not yet migrated from the old CDS system to the new CDS, please check our [informative page](https://confluence.ecmwf.int/x/uINmFw) for guidance.\n",
      "2024-10-02 17:22:14,061 INFO [2024-09-26T00:00:00] Watch our [Forum](https://forum.ecmwf.int/) for Announcements, news and other discussed topics.\n",
      "2024-10-02 17:22:14,062 INFO [2024-09-16T00:00:00] Remember that you need to have an ECMWF account to use the new CDS. **Your old CDS credentials will not work in new CDS!**\n",
      "2024-10-02 17:22:14,062 WARNING [2024-06-16T00:00:00] CDS API syntax is changed and some keys or parameter names may have also changed. To avoid requests failing, please use the \"Show API request code\" tool on the dataset Download Form to check you are using the correct syntax for your API request.\n",
      "2024-10-02 17:22:14,502 INFO Request ID is 5013d683-5b05-4eb3-9ea2-f4fa1ba82422\n",
      "2024-10-02 17:22:14,714 INFO status has been updated to accepted\n",
      "2024-10-02 17:26:35,748 INFO status has been updated to running\n",
      "2024-10-02 17:42:47,177 INFO status has been updated to successful\n"
     ]
    },
    {
     "data": {
      "application/vnd.jupyter.widget-view+json": {
       "model_id": "",
       "version_major": 2,
       "version_minor": 0
      },
      "text/plain": [
       "4750fa3fddc1515c78971e800d50eb27.zip:   0%|          | 0.00/207M [00:00<?, ?B/s]"
      ]
     },
     "metadata": {},
     "output_type": "display_data"
    },
    {
     "name": "stderr",
     "output_type": "stream",
     "text": [
      "2024-10-02 17:44:22,725 INFO Request ID is 6e0c7f61-4fdb-459a-af1c-7ddb29584ef0\n",
      "2024-10-02 17:44:22,910 INFO status has been updated to accepted\n",
      "2024-10-02 17:48:43,898 INFO status has been updated to running\n",
      "2024-10-02 17:56:49,863 INFO status has been updated to successful\n"
     ]
    },
    {
     "data": {
      "application/vnd.jupyter.widget-view+json": {
       "model_id": "",
       "version_major": 2,
       "version_minor": 0
      },
      "text/plain": [
       "3b3f493830b214e5edf7968c9b4cab8f.zip:   0%|          | 0.00/182M [00:00<?, ?B/s]"
      ]
     },
     "metadata": {},
     "output_type": "display_data"
    },
    {
     "name": "stderr",
     "output_type": "stream",
     "text": [
      "2024-10-02 17:58:03,767 INFO Request ID is 7f282c95-c602-46b5-83fe-294a3e12dd25\n",
      "2024-10-02 17:58:04,204 INFO status has been updated to accepted\n",
      "2024-10-02 18:00:57,358 INFO status has been updated to running\n",
      "2024-10-02 18:14:34,174 INFO status has been updated to successful\n"
     ]
    },
    {
     "data": {
      "application/vnd.jupyter.widget-view+json": {
       "model_id": "",
       "version_major": 2,
       "version_minor": 0
      },
      "text/plain": [
       "77b4f4a3c3481776e4614ca28fe4c42e.zip:   0%|          | 0.00/210M [00:00<?, ?B/s]"
      ]
     },
     "metadata": {},
     "output_type": "display_data"
    },
    {
     "name": "stderr",
     "output_type": "stream",
     "text": [
      "2024-10-02 18:16:21,631 INFO Request ID is 2dc55134-6ece-4512-bdcc-bd06da3414cc\n",
      "2024-10-02 18:16:21,828 INFO status has been updated to accepted\n",
      "2024-10-02 18:20:43,353 INFO status has been updated to running\n",
      "2024-10-02 18:32:51,906 INFO status has been updated to successful\n"
     ]
    },
    {
     "data": {
      "application/vnd.jupyter.widget-view+json": {
       "model_id": "",
       "version_major": 2,
       "version_minor": 0
      },
      "text/plain": [
       "aa6c914fbc0ac5c9d91337fa33922601.zip:   0%|          | 0.00/208M [00:00<?, ?B/s]"
      ]
     },
     "metadata": {},
     "output_type": "display_data"
    },
    {
     "name": "stderr",
     "output_type": "stream",
     "text": [
      "2024-10-02 18:34:53,585 INFO Request ID is 27e7d3ec-a0b8-4dc6-8579-55bcda82ff7a\n",
      "2024-10-02 18:34:53,781 INFO status has been updated to accepted\n",
      "2024-10-02 18:39:14,819 INFO status has been updated to running\n",
      "2024-10-02 18:51:24,031 INFO status has been updated to successful\n"
     ]
    },
    {
     "data": {
      "application/vnd.jupyter.widget-view+json": {
       "model_id": "",
       "version_major": 2,
       "version_minor": 0
      },
      "text/plain": [
       "f3cf81cb28d9ca988757f37a0ddd44b4.zip:   0%|          | 0.00/218M [00:00<?, ?B/s]"
      ]
     },
     "metadata": {},
     "output_type": "display_data"
    },
    {
     "name": "stderr",
     "output_type": "stream",
     "text": [
      "2024-10-02 18:53:16,960 INFO Request ID is dba409ce-1970-4844-af53-9c0c0d9e8d37\n",
      "2024-10-02 18:53:17,119 INFO status has been updated to accepted\n",
      "2024-10-02 18:57:38,177 INFO status has been updated to running\n",
      "2024-10-02 19:07:46,053 INFO status has been updated to successful\n"
     ]
    },
    {
     "data": {
      "application/vnd.jupyter.widget-view+json": {
       "model_id": "",
       "version_major": 2,
       "version_minor": 0
      },
      "text/plain": [
       "eb18a0eceb7cddb147f43bcd9fdbe78d.zip:   0%|          | 0.00/212M [00:00<?, ?B/s]"
      ]
     },
     "metadata": {},
     "output_type": "display_data"
    },
    {
     "name": "stderr",
     "output_type": "stream",
     "text": [
      "2024-10-02 19:11:10,098 INFO Request ID is 937470ce-4f82-445e-a9b9-0ca0e386b6a7\n",
      "2024-10-02 19:11:10,282 INFO status has been updated to accepted\n",
      "2024-10-02 19:15:31,208 INFO status has been updated to running\n",
      "2024-10-02 19:25:38,819 INFO status has been updated to successful\n"
     ]
    },
    {
     "data": {
      "application/vnd.jupyter.widget-view+json": {
       "model_id": "",
       "version_major": 2,
       "version_minor": 0
      },
      "text/plain": [
       "93c6ff64bc93d91f46a88768bb5bb875.zip:   0%|          | 0.00/215M [00:00<?, ?B/s]"
      ]
     },
     "metadata": {},
     "output_type": "display_data"
    },
    {
     "name": "stderr",
     "output_type": "stream",
     "text": [
      "2024-10-02 19:27:46,537 INFO Request ID is 6864cb3c-e3f8-45a8-8922-b09f993ee0c1\n",
      "2024-10-02 19:27:46,750 INFO status has been updated to accepted\n",
      "2024-10-02 19:32:08,430 INFO status has been updated to running\n",
      "2024-10-02 19:46:20,701 INFO status has been updated to successful\n"
     ]
    },
    {
     "data": {
      "application/vnd.jupyter.widget-view+json": {
       "model_id": "",
       "version_major": 2,
       "version_minor": 0
      },
      "text/plain": [
       "6885f8e7162f3e0e204de02f445b33f9.zip:   0%|          | 0.00/216M [00:00<?, ?B/s]"
      ]
     },
     "metadata": {},
     "output_type": "display_data"
    },
    {
     "name": "stderr",
     "output_type": "stream",
     "text": [
      "2024-10-02 19:47:59,780 INFO Request ID is b6ed5721-b6b0-4a2f-bbca-f75f8c963c90\n",
      "2024-10-02 19:47:59,973 INFO status has been updated to accepted\n",
      "2024-10-02 19:50:53,445 INFO status has been updated to running\n",
      "2024-10-02 20:04:31,163 INFO status has been updated to successful\n"
     ]
    },
    {
     "data": {
      "application/vnd.jupyter.widget-view+json": {
       "model_id": "",
       "version_major": 2,
       "version_minor": 0
      },
      "text/plain": [
       "5d2c4d2d1f04a335775a242176bfbfd9.zip:   0%|          | 0.00/198M [00:00<?, ?B/s]"
      ]
     },
     "metadata": {},
     "output_type": "display_data"
    },
    {
     "name": "stderr",
     "output_type": "stream",
     "text": [
      "2024-10-02 20:05:46,389 INFO Request ID is 4e8acc98-8242-4848-9129-1e0111ea49ba\n",
      "2024-10-02 20:05:46,569 INFO status has been updated to accepted\n",
      "2024-10-02 20:10:08,012 INFO status has been updated to running\n",
      "2024-10-02 20:20:15,491 INFO status has been updated to successful\n"
     ]
    },
    {
     "data": {
      "application/vnd.jupyter.widget-view+json": {
       "model_id": "",
       "version_major": 2,
       "version_minor": 0
      },
      "text/plain": [
       "450897e47b4d2cf9518c7071bfbc4aa2.zip:   0%|          | 0.00/209M [00:00<?, ?B/s]"
      ]
     },
     "metadata": {},
     "output_type": "display_data"
    },
    {
     "name": "stderr",
     "output_type": "stream",
     "text": [
      "2024-10-02 20:22:33,006 INFO Request ID is 50db4c27-fa4f-4e7c-9adc-ece66f4359fa\n",
      "2024-10-02 20:22:33,174 INFO status has been updated to accepted\n",
      "2024-10-02 20:26:54,364 INFO status has been updated to running\n",
      "2024-10-02 20:39:03,176 INFO status has been updated to successful\n"
     ]
    },
    {
     "data": {
      "application/vnd.jupyter.widget-view+json": {
       "model_id": "",
       "version_major": 2,
       "version_minor": 0
      },
      "text/plain": [
       "84e6246d1634876b131c1cb7978fed02.zip:   0%|          | 0.00/203M [00:00<?, ?B/s]"
      ]
     },
     "metadata": {},
     "output_type": "display_data"
    },
    {
     "name": "stderr",
     "output_type": "stream",
     "text": [
      "2024-10-02 20:40:50,298 INFO Request ID is b6ab25c9-3f9b-49e3-9b47-0ab9cdfa4511\n",
      "2024-10-02 20:40:50,490 INFO status has been updated to accepted\n",
      "2024-10-02 20:45:12,106 INFO status has been updated to running\n",
      "2024-10-02 21:01:24,353 INFO status has been updated to successful\n"
     ]
    },
    {
     "data": {
      "application/vnd.jupyter.widget-view+json": {
       "model_id": "",
       "version_major": 2,
       "version_minor": 0
      },
      "text/plain": [
       "a051dbdf2865348c1c917339a78230d9.zip:   0%|          | 0.00/207M [00:00<?, ?B/s]"
      ]
     },
     "metadata": {},
     "output_type": "display_data"
    },
    {
     "name": "stderr",
     "output_type": "stream",
     "text": [
      "2024-10-02 21:02:33,440 INFO Request ID is 2b502a55-9a1f-4c15-8f20-99bab74fa66b\n",
      "2024-10-02 21:02:33,625 INFO status has been updated to accepted\n",
      "2024-10-02 21:05:26,811 INFO status has been updated to running\n",
      "2024-10-02 21:21:05,416 INFO status has been updated to successful\n"
     ]
    },
    {
     "data": {
      "application/vnd.jupyter.widget-view+json": {
       "model_id": "",
       "version_major": 2,
       "version_minor": 0
      },
      "text/plain": [
       "3f90d9f67eaaa66eb72a88daba1b9ae2.zip:   0%|          | 0.00/207M [00:00<?, ?B/s]"
      ]
     },
     "metadata": {},
     "output_type": "display_data"
    },
    {
     "name": "stderr",
     "output_type": "stream",
     "text": [
      "2024-10-02 21:22:24,261 INFO Request ID is 6e54e09b-6a5a-4958-8eb7-27d4396d51d3\n",
      "2024-10-02 21:22:24,447 INFO status has been updated to accepted\n",
      "2024-10-02 21:25:17,441 INFO status has been updated to running\n",
      "2024-10-02 21:47:00,573 INFO status has been updated to successful\n"
     ]
    },
    {
     "data": {
      "application/vnd.jupyter.widget-view+json": {
       "model_id": "",
       "version_major": 2,
       "version_minor": 0
      },
      "text/plain": [
       "2ab145581716381175d21e8afd8d4634.zip:   0%|          | 0.00/189M [00:00<?, ?B/s]"
      ]
     },
     "metadata": {},
     "output_type": "display_data"
    },
    {
     "name": "stderr",
     "output_type": "stream",
     "text": [
      "2024-10-02 21:47:54,055 INFO Request ID is 4d36f46f-e7e6-4d07-a1eb-324926cf536a\n",
      "2024-10-02 21:47:54,259 INFO status has been updated to accepted\n",
      "2024-10-02 21:50:47,274 INFO status has been updated to running\n",
      "2024-10-02 22:04:24,395 INFO status has been updated to successful\n"
     ]
    },
    {
     "data": {
      "application/vnd.jupyter.widget-view+json": {
       "model_id": "",
       "version_major": 2,
       "version_minor": 0
      },
      "text/plain": [
       "548c1c7b35c5b74b54fd4c3b65c9de22.zip:   0%|          | 0.00/214M [00:00<?, ?B/s]"
      ]
     },
     "metadata": {},
     "output_type": "display_data"
    },
    {
     "name": "stderr",
     "output_type": "stream",
     "text": [
      "2024-10-02 22:05:46,221 INFO Request ID is df9bfa85-7a67-4e24-874d-52c35634ce1e\n",
      "2024-10-02 22:05:46,417 INFO status has been updated to accepted\n",
      "2024-10-02 22:08:39,423 INFO status has been updated to running\n",
      "2024-10-02 22:22:17,021 INFO status has been updated to successful\n"
     ]
    },
    {
     "data": {
      "application/vnd.jupyter.widget-view+json": {
       "model_id": "",
       "version_major": 2,
       "version_minor": 0
      },
      "text/plain": [
       "f495e6ed90a1a260f71632fe8650453b.zip:   0%|          | 0.00/204M [00:00<?, ?B/s]"
      ]
     },
     "metadata": {},
     "output_type": "display_data"
    },
    {
     "name": "stderr",
     "output_type": "stream",
     "text": [
      "2024-10-02 22:24:55,456 INFO Request ID is 0f99095c-9938-4ac8-88e1-c5c03d7f3e62\n",
      "2024-10-02 22:24:55,644 INFO status has been updated to accepted\n",
      "2024-10-02 22:26:49,679 INFO status has been updated to running\n",
      "2024-10-02 22:41:26,114 INFO status has been updated to successful\n"
     ]
    },
    {
     "data": {
      "application/vnd.jupyter.widget-view+json": {
       "model_id": "",
       "version_major": 2,
       "version_minor": 0
      },
      "text/plain": [
       "40f6c45c5216915c2fc6fdc9af41abfe.zip:   0%|          | 0.00/212M [00:00<?, ?B/s]"
      ]
     },
     "metadata": {},
     "output_type": "display_data"
    },
    {
     "name": "stderr",
     "output_type": "stream",
     "text": [
      "2024-10-02 22:43:57,188 INFO Request ID is bd21b7ff-a878-4d02-8e91-0d008e190e57\n",
      "2024-10-02 22:43:57,345 INFO status has been updated to accepted\n",
      "2024-10-02 22:45:12,871 INFO status has been updated to running\n",
      "2024-10-02 22:54:23,308 INFO status has been updated to successful\n"
     ]
    },
    {
     "data": {
      "application/vnd.jupyter.widget-view+json": {
       "model_id": "",
       "version_major": 2,
       "version_minor": 0
      },
      "text/plain": [
       "53a66f03857be47d267282b84c790629.zip:   0%|          | 0.00/210M [00:00<?, ?B/s]"
      ]
     },
     "metadata": {},
     "output_type": "display_data"
    },
    {
     "name": "stderr",
     "output_type": "stream",
     "text": [
      "2024-10-02 22:55:35,289 INFO Request ID is d66a0aae-5432-4d5f-984b-1a31487b98b0\n",
      "2024-10-02 22:55:35,503 INFO status has been updated to accepted\n",
      "2024-10-02 22:57:29,533 INFO status has been updated to running\n",
      "2024-10-02 23:12:05,451 INFO status has been updated to successful\n"
     ]
    },
    {
     "data": {
      "application/vnd.jupyter.widget-view+json": {
       "model_id": "",
       "version_major": 2,
       "version_minor": 0
      },
      "text/plain": [
       "a239acf597f5366969df3719b56f9db0.zip:   0%|          | 0.00/217M [00:00<?, ?B/s]"
      ]
     },
     "metadata": {},
     "output_type": "display_data"
    },
    {
     "name": "stderr",
     "output_type": "stream",
     "text": [
      "2024-10-02 23:15:36,339 INFO Request ID is a6705de1-9d8b-425e-be17-755a6c4cc4f4\n",
      "2024-10-02 23:15:36,512 INFO status has been updated to accepted\n",
      "2024-10-02 23:16:52,105 INFO status has been updated to running\n",
      "2024-10-02 23:26:02,643 INFO status has been updated to successful\n"
     ]
    },
    {
     "data": {
      "application/vnd.jupyter.widget-view+json": {
       "model_id": "",
       "version_major": 2,
       "version_minor": 0
      },
      "text/plain": [
       "6d27543658778ca7a724716c3fca550c.zip:   0%|          | 0.00/206M [00:00<?, ?B/s]"
      ]
     },
     "metadata": {},
     "output_type": "display_data"
    },
    {
     "name": "stderr",
     "output_type": "stream",
     "text": [
      "2024-10-02 23:28:34,519 INFO Request ID is daf72c3f-cd2c-45ad-91b4-a78300189d06\n",
      "2024-10-02 23:28:34,691 INFO status has been updated to accepted\n",
      "2024-10-02 23:29:50,076 INFO status has been updated to running\n",
      "2024-10-02 23:43:03,116 INFO status has been updated to successful\n"
     ]
    },
    {
     "data": {
      "application/vnd.jupyter.widget-view+json": {
       "model_id": "",
       "version_major": 2,
       "version_minor": 0
      },
      "text/plain": [
       "a1d9bc508dd61130cb3376ab21070054.zip:   0%|          | 0.00/202M [00:00<?, ?B/s]"
      ]
     },
     "metadata": {},
     "output_type": "display_data"
    },
    {
     "name": "stderr",
     "output_type": "stream",
     "text": [
      "2024-10-02 23:46:57,561 INFO Request ID is 35f6034e-f793-4a4f-852b-ee2791e39f7f\n",
      "2024-10-02 23:46:57,748 INFO status has been updated to accepted\n",
      "2024-10-02 23:49:51,031 INFO status has been updated to running\n",
      "2024-10-03 00:01:26,333 INFO status has been updated to successful\n"
     ]
    },
    {
     "data": {
      "application/vnd.jupyter.widget-view+json": {
       "model_id": "",
       "version_major": 2,
       "version_minor": 0
      },
      "text/plain": [
       "d342bca8126cf6fe06e298568fbbe869.zip:   0%|          | 0.00/207M [00:00<?, ?B/s]"
      ]
     },
     "metadata": {},
     "output_type": "display_data"
    },
    {
     "name": "stderr",
     "output_type": "stream",
     "text": [
      "2024-10-03 00:02:45,116 INFO Request ID is 206a6de7-833b-44d2-ab94-bb4783badbd7\n",
      "2024-10-03 00:02:45,331 INFO status has been updated to accepted\n",
      "2024-10-03 00:05:38,360 INFO status has been updated to running\n",
      "2024-10-03 00:25:20,122 INFO status has been updated to successful\n"
     ]
    },
    {
     "data": {
      "application/vnd.jupyter.widget-view+json": {
       "model_id": "",
       "version_major": 2,
       "version_minor": 0
      },
      "text/plain": [
       "2ff308118e962fb895f302f159683c90.zip:   0%|          | 0.00/204M [00:00<?, ?B/s]"
      ]
     },
     "metadata": {},
     "output_type": "display_data"
    },
    {
     "name": "stderr",
     "output_type": "stream",
     "text": [
      "2024-10-03 00:26:49,785 INFO Request ID is 45a27a2c-754e-437a-9a0b-1e5f11b36ff8\n",
      "2024-10-03 00:26:49,942 INFO status has been updated to accepted\n",
      "2024-10-03 00:33:13,497 INFO status has been updated to running\n",
      "2024-10-03 00:41:19,484 INFO status has been updated to successful\n"
     ]
    },
    {
     "data": {
      "application/vnd.jupyter.widget-view+json": {
       "model_id": "",
       "version_major": 2,
       "version_minor": 0
      },
      "text/plain": [
       "6993b10095057575687299529d44d66c.zip:   0%|          | 0.00/204M [00:00<?, ?B/s]"
      ]
     },
     "metadata": {},
     "output_type": "display_data"
    },
    {
     "name": "stderr",
     "output_type": "stream",
     "text": [
      "2024-10-03 00:42:41,401 INFO Request ID is bb7f234e-a2a6-4c56-92bd-84b044ae2c6a\n",
      "2024-10-03 00:42:41,647 INFO status has been updated to accepted\n",
      "2024-10-03 00:49:05,051 INFO status has been updated to running\n",
      "2024-10-03 01:01:14,169 INFO status has been updated to successful\n"
     ]
    },
    {
     "data": {
      "application/vnd.jupyter.widget-view+json": {
       "model_id": "",
       "version_major": 2,
       "version_minor": 0
      },
      "text/plain": [
       "bb23b0e6d24ae5eb1e98edf6c0e1cc16.zip:   0%|          | 0.00/211M [00:00<?, ?B/s]"
      ]
     },
     "metadata": {},
     "output_type": "display_data"
    },
    {
     "name": "stderr",
     "output_type": "stream",
     "text": [
      "2024-10-03 01:02:47,662 INFO Request ID is 357dcd35-2d11-48b0-b76d-2e9f9271e88f\n",
      "2024-10-03 01:02:47,871 INFO status has been updated to accepted\n",
      "2024-10-03 01:11:12,146 INFO status has been updated to running\n",
      "2024-10-03 01:23:21,472 INFO status has been updated to successful\n"
     ]
    },
    {
     "data": {
      "application/vnd.jupyter.widget-view+json": {
       "model_id": "",
       "version_major": 2,
       "version_minor": 0
      },
      "text/plain": [
       "d01aea2b4c30a3cec8bc49d62f260717.zip:   0%|          | 0.00/194M [00:00<?, ?B/s]"
      ]
     },
     "metadata": {},
     "output_type": "display_data"
    },
    {
     "name": "stderr",
     "output_type": "stream",
     "text": [
      "2024-10-03 01:24:33,766 INFO Request ID is 390afdfe-0a42-4cfe-bcdc-0d84649370de\n",
      "2024-10-03 01:24:33,938 INFO status has been updated to accepted\n",
      "2024-10-03 01:30:57,258 INFO status has been updated to running\n",
      "2024-10-03 01:41:04,802 INFO status has been updated to successful\n"
     ]
    },
    {
     "data": {
      "application/vnd.jupyter.widget-view+json": {
       "model_id": "",
       "version_major": 2,
       "version_minor": 0
      },
      "text/plain": [
       "8b027106c6af39d4d3b8d6cbe148097.zip:   0%|          | 0.00/216M [00:00<?, ?B/s]"
      ]
     },
     "metadata": {},
     "output_type": "display_data"
    },
    {
     "name": "stderr",
     "output_type": "stream",
     "text": [
      "2024-10-03 01:42:50,740 INFO Request ID is a4044c88-cb6b-40db-a8cd-a65aed947fba\n",
      "2024-10-03 01:42:50,954 INFO status has been updated to accepted\n",
      "2024-10-03 01:49:13,804 INFO status has been updated to running\n",
      "2024-10-03 01:59:21,186 INFO status has been updated to successful\n"
     ]
    },
    {
     "data": {
      "application/vnd.jupyter.widget-view+json": {
       "model_id": "",
       "version_major": 2,
       "version_minor": 0
      },
      "text/plain": [
       "49f54259fe94605695bce6c22d29412f.zip:   0%|          | 0.00/209M [00:00<?, ?B/s]"
      ]
     },
     "metadata": {},
     "output_type": "display_data"
    },
    {
     "name": "stderr",
     "output_type": "stream",
     "text": [
      "2024-10-03 02:00:34,222 INFO Request ID is 9f37d534-abce-4269-b41c-fa1e58afa2e8\n",
      "2024-10-03 02:00:34,402 INFO status has been updated to accepted\n",
      "2024-10-03 02:06:57,550 INFO status has been updated to running\n",
      "2024-10-03 02:17:05,173 INFO status has been updated to successful\n"
     ]
    },
    {
     "data": {
      "application/vnd.jupyter.widget-view+json": {
       "model_id": "",
       "version_major": 2,
       "version_minor": 0
      },
      "text/plain": [
       "bf0bbdd685e9c41e876f22eebdd660d0.zip:   0%|          | 0.00/218M [00:00<?, ?B/s]"
      ]
     },
     "metadata": {},
     "output_type": "display_data"
    },
    {
     "name": "stderr",
     "output_type": "stream",
     "text": [
      "2024-10-03 02:18:36,280 INFO Request ID is 0ccac2ac-a71c-4aae-a89a-acf3ba26ec1a\n",
      "2024-10-03 02:18:36,455 INFO status has been updated to accepted\n",
      "2024-10-03 02:27:02,403 INFO status has been updated to running\n",
      "2024-10-03 02:37:10,189 INFO status has been updated to successful\n"
     ]
    },
    {
     "data": {
      "application/vnd.jupyter.widget-view+json": {
       "model_id": "",
       "version_major": 2,
       "version_minor": 0
      },
      "text/plain": [
       "b832336fb800a9211f39f7e6d6b165cd.zip:   0%|          | 0.00/211M [00:00<?, ?B/s]"
      ]
     },
     "metadata": {},
     "output_type": "display_data"
    },
    {
     "name": "stderr",
     "output_type": "stream",
     "text": [
      "2024-10-03 02:38:26,763 INFO Request ID is cbbfbec1-6b61-4f00-b997-cd8db769c8f6\n",
      "2024-10-03 02:38:26,934 INFO status has been updated to accepted\n",
      "2024-10-03 02:46:51,646 INFO status has been updated to running\n",
      "2024-10-03 02:56:59,329 INFO status has been updated to successful\n"
     ]
    },
    {
     "data": {
      "application/vnd.jupyter.widget-view+json": {
       "model_id": "",
       "version_major": 2,
       "version_minor": 0
      },
      "text/plain": [
       "2ef489d936884ac80a37fb5f486d869.zip:   0%|          | 0.00/217M [00:00<?, ?B/s]"
      ]
     },
     "metadata": {},
     "output_type": "display_data"
    },
    {
     "name": "stderr",
     "output_type": "stream",
     "text": [
      "2024-10-03 02:58:16,539 INFO Request ID is f934cea1-f3c9-46ce-80e5-a83d936ab30c\n",
      "2024-10-03 02:58:16,730 INFO status has been updated to accepted\n",
      "2024-10-03 03:04:39,421 INFO status has been updated to running\n",
      "2024-10-03 03:14:47,072 INFO status has been updated to successful\n"
     ]
    },
    {
     "data": {
      "application/vnd.jupyter.widget-view+json": {
       "model_id": "",
       "version_major": 2,
       "version_minor": 0
      },
      "text/plain": [
       "a1f57a8e6828b8ac239f5f9794640c8a.zip:   0%|          | 0.00/214M [00:00<?, ?B/s]"
      ]
     },
     "metadata": {},
     "output_type": "display_data"
    },
    {
     "name": "stderr",
     "output_type": "stream",
     "text": [
      "2024-10-03 03:16:44,921 INFO Request ID is 989d6d1c-685a-4e70-8c3d-6edc529f5d10\n",
      "2024-10-03 03:16:45,114 INFO status has been updated to accepted\n",
      "2024-10-03 03:23:07,823 INFO status has been updated to running\n",
      "2024-10-03 03:51:30,466 INFO status has been updated to successful\n"
     ]
    },
    {
     "data": {
      "application/vnd.jupyter.widget-view+json": {
       "model_id": "",
       "version_major": 2,
       "version_minor": 0
      },
      "text/plain": [
       "46533693934e8ea0b46ec30ecec643.zip:   0%|          | 0.00/201M [00:00<?, ?B/s]"
      ]
     },
     "metadata": {},
     "output_type": "display_data"
    },
    {
     "name": "stderr",
     "output_type": "stream",
     "text": [
      "2024-10-03 03:52:34,770 INFO Request ID is 1a9544ed-a43b-4644-8389-fa9ae95ebad0\n",
      "2024-10-03 03:52:34,948 INFO status has been updated to accepted\n",
      "2024-10-03 03:56:56,934 INFO status has been updated to running\n",
      "2024-10-03 04:09:05,972 INFO status has been updated to successful\n"
     ]
    },
    {
     "data": {
      "application/vnd.jupyter.widget-view+json": {
       "model_id": "",
       "version_major": 2,
       "version_minor": 0
      },
      "text/plain": [
       "8c764b6e1a2b8abf1fd5f63704ee1363.zip:   0%|          | 0.00/205M [00:00<?, ?B/s]"
      ]
     },
     "metadata": {},
     "output_type": "display_data"
    },
    {
     "name": "stderr",
     "output_type": "stream",
     "text": [
      "2024-10-03 04:10:16,843 INFO Request ID is 26169750-b78a-4283-b4bc-0ffd3e0c9503\n",
      "2024-10-03 04:10:17,069 INFO status has been updated to accepted\n",
      "2024-10-03 04:14:38,356 INFO status has been updated to running\n",
      "2024-10-03 04:24:46,444 INFO status has been updated to successful\n"
     ]
    },
    {
     "data": {
      "application/vnd.jupyter.widget-view+json": {
       "model_id": "",
       "version_major": 2,
       "version_minor": 0
      },
      "text/plain": [
       "20ba03b1590663d3e229314fe2df44c1.zip:   0%|          | 0.00/201M [00:00<?, ?B/s]"
      ]
     },
     "metadata": {},
     "output_type": "display_data"
    },
    {
     "name": "stderr",
     "output_type": "stream",
     "text": [
      "2024-10-03 04:27:06,863 INFO Request ID is ec409636-998e-4d61-835d-94806ccf8981\n",
      "2024-10-03 04:27:07,058 INFO status has been updated to accepted\n",
      "2024-10-03 04:30:02,085 INFO status has been updated to running\n",
      "2024-10-03 04:39:36,257 INFO status has been updated to successful\n"
     ]
    },
    {
     "data": {
      "application/vnd.jupyter.widget-view+json": {
       "model_id": "",
       "version_major": 2,
       "version_minor": 0
      },
      "text/plain": [
       "2c19d6a86755c9c64a53fecdbfa0ae7f.zip:   0%|          | 0.00/206M [00:00<?, ?B/s]"
      ]
     },
     "metadata": {},
     "output_type": "display_data"
    },
    {
     "name": "stderr",
     "output_type": "stream",
     "text": [
      "2024-10-03 04:41:19,821 INFO Request ID is 886a69d0-4780-483a-87ea-a48aff08d41c\n",
      "2024-10-03 04:41:19,994 INFO status has been updated to accepted\n",
      "2024-10-03 04:44:13,049 INFO status has been updated to running\n",
      "2024-10-03 04:53:46,791 INFO status has been updated to successful\n"
     ]
    },
    {
     "data": {
      "application/vnd.jupyter.widget-view+json": {
       "model_id": "",
       "version_major": 2,
       "version_minor": 0
      },
      "text/plain": [
       "4552adc28966481bf525ec9267f0147c.zip:   0%|          | 0.00/208M [00:00<?, ?B/s]"
      ]
     },
     "metadata": {},
     "output_type": "display_data"
    },
    {
     "name": "stderr",
     "output_type": "stream",
     "text": [
      "2024-10-03 04:55:21,285 INFO Request ID is 0ec7553b-cefa-4209-b69e-4acb1ddda245\n",
      "2024-10-03 04:55:21,469 INFO status has been updated to accepted\n",
      "2024-10-03 04:59:43,011 INFO status has been updated to running\n",
      "2024-10-03 05:07:48,645 INFO status has been updated to successful\n"
     ]
    },
    {
     "data": {
      "application/vnd.jupyter.widget-view+json": {
       "model_id": "",
       "version_major": 2,
       "version_minor": 0
      },
      "text/plain": [
       "c9727ce136326f0e8cc1c6ec7b28d270.zip:   0%|          | 0.00/192M [00:00<?, ?B/s]"
      ]
     },
     "metadata": {},
     "output_type": "display_data"
    },
    {
     "name": "stderr",
     "output_type": "stream",
     "text": [
      "2024-10-03 05:09:04,068 INFO Request ID is 35b91b16-1561-4bec-a62c-604c8759831d\n",
      "2024-10-03 05:09:04,274 INFO status has been updated to accepted\n",
      "2024-10-03 05:15:26,939 INFO status has been updated to running\n",
      "2024-10-03 05:23:33,559 INFO status has been updated to successful\n"
     ]
    },
    {
     "data": {
      "application/vnd.jupyter.widget-view+json": {
       "model_id": "",
       "version_major": 2,
       "version_minor": 0
      },
      "text/plain": [
       "16b0207ce7b9f2f792729d5fea95e3f7.zip:   0%|          | 0.00/202M [00:00<?, ?B/s]"
      ]
     },
     "metadata": {},
     "output_type": "display_data"
    },
    {
     "name": "stderr",
     "output_type": "stream",
     "text": [
      "2024-10-03 05:24:48,894 INFO Request ID is 8f26b387-951e-44f3-84f4-919cc811f45f\n",
      "2024-10-03 05:24:49,128 INFO status has been updated to accepted\n",
      "2024-10-03 05:31:12,537 INFO status has been updated to running\n",
      "2024-10-03 05:39:20,950 INFO status has been updated to successful\n"
     ]
    },
    {
     "data": {
      "application/vnd.jupyter.widget-view+json": {
       "model_id": "",
       "version_major": 2,
       "version_minor": 0
      },
      "text/plain": [
       "d3ae183b9cffb7babb1e08c7d400d939.zip:   0%|          | 0.00/205M [00:00<?, ?B/s]"
      ]
     },
     "metadata": {},
     "output_type": "display_data"
    },
    {
     "name": "stderr",
     "output_type": "stream",
     "text": [
      "2024-10-03 05:40:48,083 INFO Request ID is 8b59eb00-bc88-4b8a-91c9-f4eaa70ab4f2\n",
      "2024-10-03 05:40:48,263 INFO status has been updated to accepted\n",
      "2024-10-03 05:49:12,347 INFO status has been updated to running\n",
      "2024-10-03 05:59:19,875 INFO status has been updated to successful\n"
     ]
    },
    {
     "data": {
      "application/vnd.jupyter.widget-view+json": {
       "model_id": "",
       "version_major": 2,
       "version_minor": 0
      },
      "text/plain": [
       "4fc77d4c30a1959d1b459faa975e6e05.zip:   0%|          | 0.00/215M [00:00<?, ?B/s]"
      ]
     },
     "metadata": {},
     "output_type": "display_data"
    },
    {
     "name": "stderr",
     "output_type": "stream",
     "text": [
      "2024-10-03 06:01:05,744 INFO Request ID is 705d9d20-2335-4c13-8a89-391de60479ca\n",
      "2024-10-03 06:01:05,924 INFO status has been updated to accepted\n",
      "2024-10-03 06:09:30,501 INFO status has been updated to running\n",
      "2024-10-03 06:19:37,941 INFO status has been updated to successful\n"
     ]
    },
    {
     "data": {
      "application/vnd.jupyter.widget-view+json": {
       "model_id": "",
       "version_major": 2,
       "version_minor": 0
      },
      "text/plain": [
       "955e41dbfce454d8d53c2a35f07c88c2.zip:   0%|          | 0.00/206M [00:00<?, ?B/s]"
      ]
     },
     "metadata": {},
     "output_type": "display_data"
    },
    {
     "name": "stderr",
     "output_type": "stream",
     "text": [
      "2024-10-03 06:21:21,585 INFO Request ID is 2bdf02ab-1bb0-4ada-b46f-810be785642c\n",
      "2024-10-03 06:21:21,967 INFO status has been updated to accepted\n",
      "2024-10-03 06:31:48,153 INFO status has been updated to running\n",
      "2024-10-03 06:41:55,465 INFO status has been updated to successful\n"
     ]
    },
    {
     "data": {
      "application/vnd.jupyter.widget-view+json": {
       "model_id": "",
       "version_major": 2,
       "version_minor": 0
      },
      "text/plain": [
       "49cf7f56c72b6c7f6bc7e220ece0878.zip:   0%|          | 0.00/214M [00:00<?, ?B/s]"
      ]
     },
     "metadata": {},
     "output_type": "display_data"
    },
    {
     "name": "stderr",
     "output_type": "stream",
     "text": [
      "2024-10-03 06:43:14,948 INFO Request ID is 14820c33-0d93-4d05-a2d0-faa8a0045d95\n",
      "2024-10-03 06:43:15,157 INFO status has been updated to accepted\n",
      "2024-10-03 06:53:41,089 INFO status has been updated to running\n",
      "2024-10-03 07:07:51,556 INFO status has been updated to successful\n"
     ]
    },
    {
     "data": {
      "application/vnd.jupyter.widget-view+json": {
       "model_id": "",
       "version_major": 2,
       "version_minor": 0
      },
      "text/plain": [
       "2f880df2a4fb8478e0c4250a70490f69.zip:   0%|          | 0.00/207M [00:00<?, ?B/s]"
      ]
     },
     "metadata": {},
     "output_type": "display_data"
    },
    {
     "name": "stderr",
     "output_type": "stream",
     "text": [
      "2024-10-03 07:09:06,196 INFO Request ID is b47549fa-b90d-47a9-aab4-d1eb638bf726\n",
      "2024-10-03 07:09:06,425 INFO status has been updated to accepted\n",
      "2024-10-03 07:21:34,143 INFO status has been updated to running\n",
      "2024-10-03 07:31:41,396 INFO status has been updated to successful\n"
     ]
    },
    {
     "data": {
      "application/vnd.jupyter.widget-view+json": {
       "model_id": "",
       "version_major": 2,
       "version_minor": 0
      },
      "text/plain": [
       "f442cb986e15d0dcef45639ef1adc4c0.zip:   0%|          | 0.00/199M [00:00<?, ?B/s]"
      ]
     },
     "metadata": {},
     "output_type": "display_data"
    },
    {
     "name": "stderr",
     "output_type": "stream",
     "text": [
      "2024-10-03 07:33:08,953 INFO Request ID is 7f627d3e-69d2-4d47-a043-541bf79efd3b\n",
      "2024-10-03 07:33:09,125 INFO status has been updated to accepted\n",
      "2024-10-03 07:43:35,276 INFO status has been updated to running\n",
      "2024-10-03 07:53:42,830 INFO status has been updated to successful\n"
     ]
    },
    {
     "data": {
      "application/vnd.jupyter.widget-view+json": {
       "model_id": "",
       "version_major": 2,
       "version_minor": 0
      },
      "text/plain": [
       "18c1de4172f8003de9231556c15dc772.zip:   0%|          | 0.00/208M [00:00<?, ?B/s]"
      ]
     },
     "metadata": {},
     "output_type": "display_data"
    },
    {
     "name": "stderr",
     "output_type": "stream",
     "text": [
      "2024-10-03 07:54:57,241 INFO Request ID is 907370f4-ee62-4359-9df7-c26ad4088e7b\n",
      "2024-10-03 07:54:57,440 INFO status has been updated to accepted\n",
      "2024-10-03 08:07:25,266 INFO status has been updated to running\n",
      "2024-10-03 08:17:36,247 INFO status has been updated to successful\n"
     ]
    },
    {
     "data": {
      "application/vnd.jupyter.widget-view+json": {
       "model_id": "",
       "version_major": 2,
       "version_minor": 0
      },
      "text/plain": [
       "6a555b5db1f1fdadb7e8e16871948cb2.zip:   0%|          | 0.00/200M [00:00<?, ?B/s]"
      ]
     },
     "metadata": {},
     "output_type": "display_data"
    },
    {
     "name": "stderr",
     "output_type": "stream",
     "text": [
      "2024-10-03 08:19:12,557 INFO Request ID is d92fa7ec-ee66-452d-b423-2505d64bb6ec\n",
      "2024-10-03 08:19:12,769 INFO status has been updated to accepted\n",
      "2024-10-03 08:31:40,029 INFO status has been updated to running\n",
      "2024-10-03 08:47:51,728 INFO status has been updated to successful\n"
     ]
    },
    {
     "data": {
      "application/vnd.jupyter.widget-view+json": {
       "model_id": "",
       "version_major": 2,
       "version_minor": 0
      },
      "text/plain": [
       "8d3626fd00f4f201718fd6f6b2bde1e8.zip:   0%|          | 0.00/207M [00:00<?, ?B/s]"
      ]
     },
     "metadata": {},
     "output_type": "display_data"
    }
   ],
   "source": [
    "import cdsapi\n",
    "import calendar\n",
    "\n",
    "\n",
    "# Define months\n",
    "months = [str(i).zfill(2) for i in range(1, 13)]\n",
    "print(months)\n",
    "\n",
    "# Initialize the CDS API client\n",
    "client = cdsapi.Client()\n",
    "years = ['1962', '1963', '1964', '1965']\n",
    "\n",
    "# Loop over the years and months to build the request\n",
    "for year in years:\n",
    "    for month in months:\n",
    "        # Get the number of days in the current month and year\n",
    "        num_days = calendar.monthrange(int(year), int(month))[1]\n",
    "        days = [str(day).zfill(2) for day in range(1, num_days + 1)]\n",
    "\n",
    "        # Define the request for each month\n",
    "        request = {\n",
    "            \"variable\": [\n",
    "                \"2m_dewpoint_temperature\",\n",
    "                \"2m_temperature\",\n",
    "                \"surface_solar_radiation_downwards\",\n",
    "                \"10m_u_component_of_wind\",\n",
    "                \"10m_v_component_of_wind\",\n",
    "                \"surface_pressure\",\n",
    "                \"total_precipitation\"\n",
    "            ],\n",
    "            \"year\": year,\n",
    "            \"month\": month,\n",
    "            \"day\": days,\n",
    "            \"time\": [\n",
    "                \"00:00\", \"01:00\", \"02:00\",\n",
    "                \"03:00\", \"04:00\", \"05:00\",\n",
    "                \"06:00\", \"07:00\", \"08:00\",\n",
    "                \"09:00\", \"10:00\", \"11:00\",\n",
    "                \"12:00\", \"13:00\", \"14:00\",\n",
    "                \"15:00\", \"16:00\", \"17:00\",\n",
    "                \"18:00\", \"19:00\", \"20:00\",\n",
    "                \"21:00\", \"22:00\", \"23:00\"\n",
    "            ],\n",
    "            \"data_format\": \"netcdf\",\n",
    "            \"download_format\": \"zip\",\n",
    "            \"area\": [60, -139, 48, -113]\n",
    "        }\n",
    "\n",
    "        # Retrieve the data for the specific year and month\n",
    "        client.retrieve(dataset, request).download(f\"ERA5_{year}_{month}.zip\")\n"
   ]
  },
  {
   "cell_type": "code",
   "execution_count": null,
   "id": "94f91c67",
   "metadata": {},
   "outputs": [],
   "source": []
  }
 ],
 "metadata": {
  "kernelspec": {
   "display_name": "Python 3 (ipykernel)",
   "language": "python",
   "name": "python3"
  },
  "language_info": {
   "codemirror_mode": {
    "name": "ipython",
    "version": 3
   },
   "file_extension": ".py",
   "mimetype": "text/x-python",
   "name": "python",
   "nbconvert_exporter": "python",
   "pygments_lexer": "ipython3",
   "version": "3.11.5"
  }
 },
 "nbformat": 4,
 "nbformat_minor": 5
}
