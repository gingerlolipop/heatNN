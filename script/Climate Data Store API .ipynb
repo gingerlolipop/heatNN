{
 "cells": [
  {
   "cell_type": "markdown",
   "id": "6d699dbb",
   "metadata": {},
   "source": [
    "Request ERA5 Land Data 2020-2024 "
   ]
  },
  {
   "cell_type": "code",
   "execution_count": 10,
   "id": "4d0de7ef",
   "metadata": {},
   "outputs": [
    {
     "name": "stdout",
     "output_type": "stream",
     "text": [
      "Requirement already satisfied: cdsapi in c:\\users\\jillb\\anaconda3\\lib\\site-packages (0.7.5)\n",
      "Requirement already satisfied: datapi in c:\\users\\jillb\\anaconda3\\lib\\site-packages (from cdsapi) (0.2.0)\n",
      "Requirement already satisfied: requests>=2.5.0 in c:\\users\\jillb\\anaconda3\\lib\\site-packages (from cdsapi) (2.29.0)\n",
      "Requirement already satisfied: tqdm in c:\\users\\jillb\\anaconda3\\lib\\site-packages (from cdsapi) (4.65.0)\n",
      "Requirement already satisfied: charset-normalizer<4,>=2 in c:\\users\\jillb\\anaconda3\\lib\\site-packages (from requests>=2.5.0->cdsapi) (2.0.4)\n",
      "Requirement already satisfied: idna<4,>=2.5 in c:\\users\\jillb\\anaconda3\\lib\\site-packages (from requests>=2.5.0->cdsapi) (3.4)\n",
      "Requirement already satisfied: urllib3<1.27,>=1.21.1 in c:\\users\\jillb\\anaconda3\\lib\\site-packages (from requests>=2.5.0->cdsapi) (1.26.16)\n",
      "Requirement already satisfied: certifi>=2017.4.17 in c:\\users\\jillb\\anaconda3\\lib\\site-packages (from requests>=2.5.0->cdsapi) (2023.5.7)\n",
      "Requirement already satisfied: attrs in c:\\users\\jillb\\anaconda3\\lib\\site-packages (from datapi->cdsapi) (22.1.0)\n",
      "Requirement already satisfied: multiurl>=0.3.2 in c:\\users\\jillb\\anaconda3\\lib\\site-packages (from datapi->cdsapi) (0.3.3)\n",
      "Requirement already satisfied: typing-extensions in c:\\users\\jillb\\anaconda3\\lib\\site-packages (from datapi->cdsapi) (4.12.2)\n",
      "Requirement already satisfied: colorama in c:\\users\\jillb\\anaconda3\\lib\\site-packages (from tqdm->cdsapi) (0.4.6)\n",
      "Requirement already satisfied: pytz in c:\\users\\jillb\\anaconda3\\lib\\site-packages (from multiurl>=0.3.2->datapi->cdsapi) (2022.7)\n",
      "Requirement already satisfied: python-dateutil in c:\\users\\jillb\\anaconda3\\lib\\site-packages (from multiurl>=0.3.2->datapi->cdsapi) (2.8.2)\n",
      "Requirement already satisfied: six>=1.5 in c:\\users\\jillb\\anaconda3\\lib\\site-packages (from python-dateutil->multiurl>=0.3.2->datapi->cdsapi) (1.16.0)\n",
      "Note: you may need to restart the kernel to use updated packages.\n"
     ]
    }
   ],
   "source": [
    "pip install cdsapi"
   ]
  },
  {
   "cell_type": "code",
   "execution_count": 11,
   "id": "3bd8033c",
   "metadata": {},
   "outputs": [],
   "source": [
    "dataset = \"reanalysis-era5-land\" "
   ]
  },
  {
   "cell_type": "code",
   "execution_count": 12,
   "id": "32737844",
   "metadata": {},
   "outputs": [
    {
     "name": "stdout",
     "output_type": "stream",
     "text": [
      "Years: ['1961', '1962', '1963', '1964', '1965']\n",
      "Months: ['01', '02', '03', '04', '05', '06', '07', '08', '09', '10', '11', '12']\n"
     ]
    },
    {
     "ename": "Exception",
     "evalue": "Missing/incomplete configuration file: C:\\Users\\jillb/.cdsapirc",
     "output_type": "error",
     "traceback": [
      "\u001b[1;31m---------------------------------------------------------------------------\u001b[0m",
      "\u001b[1;31mException\u001b[0m                                 Traceback (most recent call last)",
      "Cell \u001b[1;32mIn[12], line 18\u001b[0m\n\u001b[0;32m     15\u001b[0m dataset \u001b[38;5;241m=\u001b[39m \u001b[38;5;124m\"\u001b[39m\u001b[38;5;124mreanalysis-era5-land\u001b[39m\u001b[38;5;124m\"\u001b[39m  \u001b[38;5;66;03m# 或 \"reanalysis-era5-single-levels\"\u001b[39;00m\n\u001b[0;32m     17\u001b[0m \u001b[38;5;66;03m# 初始化 CDS API 客户端（会自动读取 ~/.cdsapirc 文件中的密钥）\u001b[39;00m\n\u001b[1;32m---> 18\u001b[0m client \u001b[38;5;241m=\u001b[39m cdsapi\u001b[38;5;241m.\u001b[39mClient()\n\u001b[0;32m     20\u001b[0m \u001b[38;5;66;03m# 按年和月循环下载数据\u001b[39;00m\n\u001b[0;32m     21\u001b[0m \u001b[38;5;28;01mfor\u001b[39;00m year \u001b[38;5;129;01min\u001b[39;00m years:\n",
      "File \u001b[1;32m~\\anaconda3\\Lib\\site-packages\\cdsapi\\api.py:281\u001b[0m, in \u001b[0;36mClient.__new__\u001b[1;34m(cls, url, key, *args, **kwargs)\u001b[0m\n\u001b[0;32m    280\u001b[0m \u001b[38;5;28;01mdef\u001b[39;00m \u001b[38;5;21m__new__\u001b[39m(\u001b[38;5;28mcls\u001b[39m, url\u001b[38;5;241m=\u001b[39m\u001b[38;5;28;01mNone\u001b[39;00m, key\u001b[38;5;241m=\u001b[39m\u001b[38;5;28;01mNone\u001b[39;00m, \u001b[38;5;241m*\u001b[39margs, \u001b[38;5;241m*\u001b[39m\u001b[38;5;241m*\u001b[39mkwargs):\n\u001b[1;32m--> 281\u001b[0m     _, token, _ \u001b[38;5;241m=\u001b[39m get_url_key_verify(url, key, \u001b[38;5;28;01mNone\u001b[39;00m)\n\u001b[0;32m    282\u001b[0m     \u001b[38;5;28;01mif\u001b[39;00m \u001b[38;5;124m\"\u001b[39m\u001b[38;5;124m:\u001b[39m\u001b[38;5;124m\"\u001b[39m \u001b[38;5;129;01min\u001b[39;00m token:\n\u001b[0;32m    283\u001b[0m         \u001b[38;5;28;01mreturn\u001b[39;00m \u001b[38;5;28msuper\u001b[39m()\u001b[38;5;241m.\u001b[39m\u001b[38;5;21m__new__\u001b[39m(\u001b[38;5;28mcls\u001b[39m)\n",
      "File \u001b[1;32m~\\anaconda3\\Lib\\site-packages\\cdsapi\\api.py:69\u001b[0m, in \u001b[0;36mget_url_key_verify\u001b[1;34m(url, key, verify)\u001b[0m\n\u001b[0;32m     66\u001b[0m             verify \u001b[38;5;241m=\u001b[39m \u001b[38;5;28mbool\u001b[39m(\u001b[38;5;28mint\u001b[39m(config\u001b[38;5;241m.\u001b[39mget(\u001b[38;5;124m\"\u001b[39m\u001b[38;5;124mverify\u001b[39m\u001b[38;5;124m\"\u001b[39m, \u001b[38;5;241m1\u001b[39m)))\n\u001b[0;32m     68\u001b[0m \u001b[38;5;28;01mif\u001b[39;00m url \u001b[38;5;129;01mis\u001b[39;00m \u001b[38;5;28;01mNone\u001b[39;00m \u001b[38;5;129;01mor\u001b[39;00m key \u001b[38;5;129;01mis\u001b[39;00m \u001b[38;5;28;01mNone\u001b[39;00m \u001b[38;5;129;01mor\u001b[39;00m key \u001b[38;5;129;01mis\u001b[39;00m \u001b[38;5;28;01mNone\u001b[39;00m:\n\u001b[1;32m---> 69\u001b[0m     \u001b[38;5;28;01mraise\u001b[39;00m \u001b[38;5;167;01mException\u001b[39;00m(\u001b[38;5;124m\"\u001b[39m\u001b[38;5;124mMissing/incomplete configuration file: \u001b[39m\u001b[38;5;132;01m%s\u001b[39;00m\u001b[38;5;124m\"\u001b[39m \u001b[38;5;241m%\u001b[39m (dotrc))\n\u001b[0;32m     71\u001b[0m \u001b[38;5;66;03m# If verify is still None, then we set to default value of True\u001b[39;00m\n\u001b[0;32m     72\u001b[0m \u001b[38;5;28;01mif\u001b[39;00m verify \u001b[38;5;129;01mis\u001b[39;00m \u001b[38;5;28;01mNone\u001b[39;00m:\n",
      "\u001b[1;31mException\u001b[0m: Missing/incomplete configuration file: C:\\Users\\jillb/.cdsapirc"
     ]
    }
   ],
   "source": [
    "import cdsapi\n",
    "import calendar\n",
    "\n",
    "# 定义年份区间\n",
    "start_year = 1961\n",
    "end_year = 1965\n",
    "years = [str(year) for year in range(start_year, end_year + 1)]\n",
    "print(\"Years:\", years)\n",
    "\n",
    "# 定义月份（01到12月）\n",
    "months = [str(i).zfill(2) for i in range(1, 13)]\n",
    "print(\"Months:\", months)\n",
    "\n",
    "# 定义数据集名称（根据你的实际需求选择数据集）\n",
    "dataset = \"reanalysis-era5-land\"  # 或 \"reanalysis-era5-single-levels\"\n",
    "\n",
    "# 初始化 CDS API 客户端（会自动读取 ~/.cdsapirc 文件中的密钥）\n",
    "client = cdsapi.Client()\n",
    "\n",
    "# 按年和月循环下载数据\n",
    "for year in years:\n",
    "    for month in months:\n",
    "        # 获取当前年月的天数\n",
    "        num_days = calendar.monthrange(int(year), int(month))[1]\n",
    "        days = [str(day).zfill(2) for day in range(1, num_days + 1)]\n",
    "\n",
    "        # 构建每月的请求参数\n",
    "        request = {\n",
    "            \"variable\": [\n",
    "                \"2m_dewpoint_temperature\",\n",
    "                \"2m_temperature\",\n",
    "                \"surface_solar_radiation_downwards\",\n",
    "                \"10m_u_component_of_wind\",\n",
    "                \"10m_v_component_of_wind\",\n",
    "                \"surface_pressure\",\n",
    "                \"total_precipitation\"\n",
    "            ],\n",
    "            \"year\": year,\n",
    "            \"month\": month,\n",
    "            \"day\": days,\n",
    "            \"time\": [\n",
    "                \"00:00\", \"01:00\", \"02:00\",\n",
    "                \"03:00\", \"04:00\", \"05:00\",\n",
    "                \"06:00\", \"07:00\", \"08:00\",\n",
    "                \"09:00\", \"10:00\", \"11:00\",\n",
    "                \"12:00\", \"13:00\", \"14:00\",\n",
    "                \"15:00\", \"16:00\", \"17:00\",\n",
    "                \"18:00\", \"19:00\", \"20:00\",\n",
    "                \"21:00\", \"22:00\", \"23:00\"\n",
    "            ],\n",
    "            \"data_format\": \"netcdf\",     # 原来你使用的是 data_format\n",
    "            \"download_format\": \"zip\",     # 同时指定下载格式为 zip\n",
    "            \"area\": [60, -139, 48, -113]   # [北, 西, 南, 东]\n",
    "        }\n",
    "\n",
    "        # 发起下载请求，并将数据保存为 ERA5_YYYY_MM.zip\n",
    "        client.retrieve(dataset, request).download(f\"ERA5_{year}_{month}.zip\")\n"
   ]
  },
  {
   "cell_type": "code",
   "execution_count": null,
   "id": "e82499bb",
   "metadata": {},
   "outputs": [],
   "source": []
  }
 ],
 "metadata": {
  "kernelspec": {
   "display_name": "Python 3 (ipykernel)",
   "language": "python",
   "name": "python3"
  },
  "language_info": {
   "codemirror_mode": {
    "name": "ipython",
    "version": 3
   },
   "file_extension": ".py",
   "mimetype": "text/x-python",
   "name": "python",
   "nbconvert_exporter": "python",
   "pygments_lexer": "ipython3",
   "version": "3.11.3"
  }
 },
 "nbformat": 4,
 "nbformat_minor": 5
}
