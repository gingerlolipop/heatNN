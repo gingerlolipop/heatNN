{
 "cells": [
  {
   "cell_type": "code",
   "execution_count": 11,
   "id": "9e6525b6",
   "metadata": {},
   "outputs": [
    {
     "name": "stdout",
     "output_type": "stream",
     "text": [
      "Requirement already satisfied: xarray in c:\\users\\jillb\\anaconda3\\lib\\site-packages (2022.11.0)\n",
      "Requirement already satisfied: netCDF4 in c:\\users\\jillb\\anaconda3\\lib\\site-packages (1.7.2)\n",
      "Requirement already satisfied: cartopy in c:\\users\\jillb\\anaconda3\\lib\\site-packages (0.24.1)\n",
      "Requirement already satisfied: numpy>=1.20 in c:\\users\\jillb\\anaconda3\\lib\\site-packages (from xarray) (1.24.3)\n",
      "Requirement already satisfied: pandas>=1.3 in c:\\users\\jillb\\anaconda3\\lib\\site-packages (from xarray) (1.5.3)\n",
      "Requirement already satisfied: packaging>=21.0 in c:\\users\\jillb\\anaconda3\\lib\\site-packages (from xarray) (23.0)\n",
      "Requirement already satisfied: cftime in c:\\users\\jillb\\anaconda3\\lib\\site-packages (from netCDF4) (1.6.4.post1)\n",
      "Requirement already satisfied: certifi in c:\\users\\jillb\\anaconda3\\lib\\site-packages (from netCDF4) (2023.5.7)\n",
      "Requirement already satisfied: matplotlib>=3.6 in c:\\users\\jillb\\anaconda3\\lib\\site-packages (from cartopy) (3.7.1)\n",
      "Requirement already satisfied: shapely>=1.8 in c:\\users\\jillb\\anaconda3\\lib\\site-packages (from cartopy) (2.0.6)\n",
      "Requirement already satisfied: pyshp>=2.3 in c:\\users\\jillb\\anaconda3\\lib\\site-packages (from cartopy) (2.3.1)\n",
      "Requirement already satisfied: pyproj>=3.3.1 in c:\\users\\jillb\\anaconda3\\lib\\site-packages (from cartopy) (3.7.0)\n",
      "Requirement already satisfied: contourpy>=1.0.1 in c:\\users\\jillb\\anaconda3\\lib\\site-packages (from matplotlib>=3.6->cartopy) (1.0.5)\n",
      "Requirement already satisfied: cycler>=0.10 in c:\\users\\jillb\\anaconda3\\lib\\site-packages (from matplotlib>=3.6->cartopy) (0.11.0)\n",
      "Requirement already satisfied: fonttools>=4.22.0 in c:\\users\\jillb\\anaconda3\\lib\\site-packages (from matplotlib>=3.6->cartopy) (4.25.0)\n",
      "Requirement already satisfied: kiwisolver>=1.0.1 in c:\\users\\jillb\\anaconda3\\lib\\site-packages (from matplotlib>=3.6->cartopy) (1.4.4)\n",
      "Requirement already satisfied: pillow>=6.2.0 in c:\\users\\jillb\\anaconda3\\lib\\site-packages (from matplotlib>=3.6->cartopy) (9.4.0)\n",
      "Requirement already satisfied: pyparsing>=2.3.1 in c:\\users\\jillb\\anaconda3\\lib\\site-packages (from matplotlib>=3.6->cartopy) (3.0.9)\n",
      "Requirement already satisfied: python-dateutil>=2.7 in c:\\users\\jillb\\anaconda3\\lib\\site-packages (from matplotlib>=3.6->cartopy) (2.8.2)\n",
      "Requirement already satisfied: pytz>=2020.1 in c:\\users\\jillb\\anaconda3\\lib\\site-packages (from pandas>=1.3->xarray) (2022.7)\n",
      "Requirement already satisfied: six>=1.5 in c:\\users\\jillb\\anaconda3\\lib\\site-packages (from python-dateutil>=2.7->matplotlib>=3.6->cartopy) (1.16.0)\n",
      "Note: you may need to restart the kernel to use updated packages.\n"
     ]
    }
   ],
   "source": [
    "pip install xarray netCDF4 cartopy"
   ]
  },
  {
   "cell_type": "code",
   "execution_count": 12,
   "id": "ccebafc3",
   "metadata": {},
   "outputs": [
    {
     "ename": "ValueError",
     "evalue": "unrecognized engine netcdf4 must be one of: ['scipy', 'store', 'zarr']",
     "output_type": "error",
     "traceback": [
      "\u001b[1;31m---------------------------------------------------------------------------\u001b[0m",
      "\u001b[1;31mValueError\u001b[0m                                Traceback (most recent call last)",
      "Cell \u001b[1;32mIn[12], line 8\u001b[0m\n\u001b[0;32m      5\u001b[0m \u001b[38;5;28;01mimport\u001b[39;00m \u001b[38;5;21;01mnumpy\u001b[39;00m \u001b[38;5;28;01mas\u001b[39;00m \u001b[38;5;21;01mnp\u001b[39;00m\n\u001b[0;32m      7\u001b[0m \u001b[38;5;66;03m# Try opening with explicit engine\u001b[39;00m\n\u001b[1;32m----> 8\u001b[0m ds \u001b[38;5;241m=\u001b[39m xr\u001b[38;5;241m.\u001b[39mopen_dataset(\u001b[38;5;124m'\u001b[39m\u001b[38;5;124mERA5_2023_06/data_stream-oper_stepType-accum.nc\u001b[39m\u001b[38;5;124m'\u001b[39m, engine\u001b[38;5;241m=\u001b[39m\u001b[38;5;124m'\u001b[39m\u001b[38;5;124mnetcdf4\u001b[39m\u001b[38;5;124m'\u001b[39m)\n",
      "File \u001b[1;32m~\\anaconda3\\Lib\\site-packages\\xarray\\backends\\api.py:525\u001b[0m, in \u001b[0;36mopen_dataset\u001b[1;34m(filename_or_obj, engine, chunks, cache, decode_cf, mask_and_scale, decode_times, decode_timedelta, use_cftime, concat_characters, decode_coords, drop_variables, inline_array, backend_kwargs, **kwargs)\u001b[0m\n\u001b[0;32m    522\u001b[0m \u001b[38;5;28;01mif\u001b[39;00m engine \u001b[38;5;129;01mis\u001b[39;00m \u001b[38;5;28;01mNone\u001b[39;00m:\n\u001b[0;32m    523\u001b[0m     engine \u001b[38;5;241m=\u001b[39m plugins\u001b[38;5;241m.\u001b[39mguess_engine(filename_or_obj)\n\u001b[1;32m--> 525\u001b[0m backend \u001b[38;5;241m=\u001b[39m plugins\u001b[38;5;241m.\u001b[39mget_backend(engine)\n\u001b[0;32m    527\u001b[0m decoders \u001b[38;5;241m=\u001b[39m _resolve_decoders_kwargs(\n\u001b[0;32m    528\u001b[0m     decode_cf,\n\u001b[0;32m    529\u001b[0m     open_backend_dataset_parameters\u001b[38;5;241m=\u001b[39mbackend\u001b[38;5;241m.\u001b[39mopen_dataset_parameters,\n\u001b[1;32m   (...)\u001b[0m\n\u001b[0;32m    535\u001b[0m     decode_coords\u001b[38;5;241m=\u001b[39mdecode_coords,\n\u001b[0;32m    536\u001b[0m )\n\u001b[0;32m    538\u001b[0m overwrite_encoded_chunks \u001b[38;5;241m=\u001b[39m kwargs\u001b[38;5;241m.\u001b[39mpop(\u001b[38;5;124m\"\u001b[39m\u001b[38;5;124moverwrite_encoded_chunks\u001b[39m\u001b[38;5;124m\"\u001b[39m, \u001b[38;5;28;01mNone\u001b[39;00m)\n",
      "File \u001b[1;32m~\\anaconda3\\Lib\\site-packages\\xarray\\backends\\plugins.py:185\u001b[0m, in \u001b[0;36mget_backend\u001b[1;34m(engine)\u001b[0m\n\u001b[0;32m    183\u001b[0m     engines \u001b[38;5;241m=\u001b[39m list_engines()\n\u001b[0;32m    184\u001b[0m     \u001b[38;5;28;01mif\u001b[39;00m engine \u001b[38;5;129;01mnot\u001b[39;00m \u001b[38;5;129;01min\u001b[39;00m engines:\n\u001b[1;32m--> 185\u001b[0m         \u001b[38;5;28;01mraise\u001b[39;00m \u001b[38;5;167;01mValueError\u001b[39;00m(\n\u001b[0;32m    186\u001b[0m             \u001b[38;5;124mf\u001b[39m\u001b[38;5;124m\"\u001b[39m\u001b[38;5;124munrecognized engine \u001b[39m\u001b[38;5;132;01m{\u001b[39;00mengine\u001b[38;5;132;01m}\u001b[39;00m\u001b[38;5;124m must be one of: \u001b[39m\u001b[38;5;132;01m{\u001b[39;00m\u001b[38;5;28mlist\u001b[39m(engines)\u001b[38;5;132;01m}\u001b[39;00m\u001b[38;5;124m\"\u001b[39m\n\u001b[0;32m    187\u001b[0m         )\n\u001b[0;32m    188\u001b[0m     backend \u001b[38;5;241m=\u001b[39m engines[engine]\n\u001b[0;32m    189\u001b[0m \u001b[38;5;28;01melif\u001b[39;00m \u001b[38;5;28misinstance\u001b[39m(engine, \u001b[38;5;28mtype\u001b[39m) \u001b[38;5;129;01mand\u001b[39;00m \u001b[38;5;28missubclass\u001b[39m(engine, BackendEntrypoint):\n",
      "\u001b[1;31mValueError\u001b[0m: unrecognized engine netcdf4 must be one of: ['scipy', 'store', 'zarr']"
     ]
    }
   ],
   "source": [
    "import xarray as xr\n",
    "import matplotlib.pyplot as plt\n",
    "import cartopy.crs as ccrs\n",
    "import cartopy.feature as cfeature\n",
    "import numpy as np\n",
    "\n",
    "# Try opening with explicit engine\n",
    "ds = xr.open_dataset('ERA5_2023_06/data_stream-oper_stepType-accum.nc', engine='netcdf4')"
   ]
  },
  {
   "cell_type": "code",
   "execution_count": null,
   "id": "ec56f809",
   "metadata": {},
   "outputs": [],
   "source": []
  }
 ],
 "metadata": {
  "kernelspec": {
   "display_name": "Python 3 (ipykernel)",
   "language": "python",
   "name": "python3"
  },
  "language_info": {
   "codemirror_mode": {
    "name": "ipython",
    "version": 3
   },
   "file_extension": ".py",
   "mimetype": "text/x-python",
   "name": "python",
   "nbconvert_exporter": "python",
   "pygments_lexer": "ipython3",
   "version": "3.11.3"
  }
 },
 "nbformat": 4,
 "nbformat_minor": 5
}
